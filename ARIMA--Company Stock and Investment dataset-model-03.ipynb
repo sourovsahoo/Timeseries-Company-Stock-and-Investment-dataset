{
 "cells": [
  {
   "cell_type": "markdown",
   "metadata": {},
   "source": [
    "# TIME SERIES"
   ]
  },
  {
   "cell_type": "raw",
   "metadata": {},
   "source": [
    "Process:-\n",
    "\n",
    "1.Created a new dataframe(df_new) consisting only 'Date' feature with no missing days.\n",
    "\n",
    "2.Merged the new dataframe(df_new) with original dataframe(df)=df_merge=df_oil\n",
    "\n",
    "3.filled the missing values in df_merge with '0'"
   ]
  },
  {
   "cell_type": "markdown",
   "metadata": {},
   "source": [
    "# Start(1.In this notebook,till now--Analysis of 'Oil Investment')"
   ]
  },
  {
   "cell_type": "code",
   "execution_count": 1,
   "metadata": {},
   "outputs": [],
   "source": [
    "import numpy as np\n",
    "import pandas as pd\n",
    "\n",
    "import matplotlib.pyplot as plt\n",
    "%matplotlib inline"
   ]
  },
  {
   "cell_type": "code",
   "execution_count": 2,
   "metadata": {},
   "outputs": [],
   "source": [
    "df=pd.read_csv('Company Stock and Investment.csv')"
   ]
  },
  {
   "cell_type": "code",
   "execution_count": 3,
   "metadata": {},
   "outputs": [],
   "source": [
    "df=df[['Date','Oil Investments']]"
   ]
  },
  {
   "cell_type": "code",
   "execution_count": 4,
   "metadata": {},
   "outputs": [
    {
     "data": {
      "text/html": [
       "<div>\n",
       "<style scoped>\n",
       "    .dataframe tbody tr th:only-of-type {\n",
       "        vertical-align: middle;\n",
       "    }\n",
       "\n",
       "    .dataframe tbody tr th {\n",
       "        vertical-align: top;\n",
       "    }\n",
       "\n",
       "    .dataframe thead th {\n",
       "        text-align: right;\n",
       "    }\n",
       "</style>\n",
       "<table border=\"1\" class=\"dataframe\">\n",
       "  <thead>\n",
       "    <tr style=\"text-align: right;\">\n",
       "      <th></th>\n",
       "      <th>Date</th>\n",
       "      <th>Oil Investments</th>\n",
       "    </tr>\n",
       "  </thead>\n",
       "  <tbody>\n",
       "    <tr>\n",
       "      <th>0</th>\n",
       "      <td>31-12-2009</td>\n",
       "      <td>0.025417</td>\n",
       "    </tr>\n",
       "    <tr>\n",
       "      <th>1</th>\n",
       "      <td>04-01-2010</td>\n",
       "      <td>0.026830</td>\n",
       "    </tr>\n",
       "    <tr>\n",
       "      <th>2</th>\n",
       "      <td>05-01-2010</td>\n",
       "      <td>0.002699</td>\n",
       "    </tr>\n",
       "    <tr>\n",
       "      <th>3</th>\n",
       "      <td>06-01-2010</td>\n",
       "      <td>0.021688</td>\n",
       "    </tr>\n",
       "    <tr>\n",
       "      <th>4</th>\n",
       "      <td>07-01-2010</td>\n",
       "      <td>-0.006256</td>\n",
       "    </tr>\n",
       "    <tr>\n",
       "      <th>5</th>\n",
       "      <td>08-01-2010</td>\n",
       "      <td>0.001269</td>\n",
       "    </tr>\n",
       "    <tr>\n",
       "      <th>6</th>\n",
       "      <td>11-01-2010</td>\n",
       "      <td>-0.002417</td>\n",
       "    </tr>\n",
       "    <tr>\n",
       "      <th>7</th>\n",
       "      <td>12-01-2010</td>\n",
       "      <td>-0.021202</td>\n",
       "    </tr>\n",
       "    <tr>\n",
       "      <th>8</th>\n",
       "      <td>13-01-2010</td>\n",
       "      <td>-0.013987</td>\n",
       "    </tr>\n",
       "    <tr>\n",
       "      <th>9</th>\n",
       "      <td>14-01-2010</td>\n",
       "      <td>-0.003892</td>\n",
       "    </tr>\n",
       "    <tr>\n",
       "      <th>10</th>\n",
       "      <td>15-01-2010</td>\n",
       "      <td>-0.017517</td>\n",
       "    </tr>\n",
       "    <tr>\n",
       "      <th>11</th>\n",
       "      <td>19-01-2010</td>\n",
       "      <td>0.013084</td>\n",
       "    </tr>\n",
       "    <tr>\n",
       "      <th>12</th>\n",
       "      <td>20-01-2010</td>\n",
       "      <td>-0.013975</td>\n",
       "    </tr>\n",
       "    <tr>\n",
       "      <th>13</th>\n",
       "      <td>21-01-2010</td>\n",
       "      <td>-0.020408</td>\n",
       "    </tr>\n",
       "    <tr>\n",
       "      <th>14</th>\n",
       "      <td>22-01-2010</td>\n",
       "      <td>-0.020965</td>\n",
       "    </tr>\n",
       "    <tr>\n",
       "      <th>15</th>\n",
       "      <td>25-01-2010</td>\n",
       "      <td>0.008754</td>\n",
       "    </tr>\n",
       "    <tr>\n",
       "      <th>16</th>\n",
       "      <td>26-01-2010</td>\n",
       "      <td>-0.003071</td>\n",
       "    </tr>\n",
       "    <tr>\n",
       "      <th>17</th>\n",
       "      <td>27-01-2010</td>\n",
       "      <td>-0.013794</td>\n",
       "    </tr>\n",
       "    <tr>\n",
       "      <th>18</th>\n",
       "      <td>28-01-2010</td>\n",
       "      <td>-0.000272</td>\n",
       "    </tr>\n",
       "    <tr>\n",
       "      <th>19</th>\n",
       "      <td>29-01-2010</td>\n",
       "      <td>-0.010459</td>\n",
       "    </tr>\n",
       "    <tr>\n",
       "      <th>20</th>\n",
       "      <td>01-02-2010</td>\n",
       "      <td>0.021414</td>\n",
       "    </tr>\n",
       "    <tr>\n",
       "      <th>21</th>\n",
       "      <td>02-02-2010</td>\n",
       "      <td>0.037629</td>\n",
       "    </tr>\n",
       "    <tr>\n",
       "      <th>22</th>\n",
       "      <td>03-02-2010</td>\n",
       "      <td>-0.003238</td>\n",
       "    </tr>\n",
       "    <tr>\n",
       "      <th>23</th>\n",
       "      <td>04-02-2010</td>\n",
       "      <td>-0.049766</td>\n",
       "    </tr>\n",
       "    <tr>\n",
       "      <th>24</th>\n",
       "      <td>05-02-2010</td>\n",
       "      <td>-0.027075</td>\n",
       "    </tr>\n",
       "    <tr>\n",
       "      <th>25</th>\n",
       "      <td>08-02-2010</td>\n",
       "      <td>0.010119</td>\n",
       "    </tr>\n",
       "    <tr>\n",
       "      <th>26</th>\n",
       "      <td>09-02-2010</td>\n",
       "      <td>0.025602</td>\n",
       "    </tr>\n",
       "    <tr>\n",
       "      <th>27</th>\n",
       "      <td>10-02-2010</td>\n",
       "      <td>0.010446</td>\n",
       "    </tr>\n",
       "    <tr>\n",
       "      <th>28</th>\n",
       "      <td>11-02-2010</td>\n",
       "      <td>0.010070</td>\n",
       "    </tr>\n",
       "    <tr>\n",
       "      <th>29</th>\n",
       "      <td>12-02-2010</td>\n",
       "      <td>-0.014888</td>\n",
       "    </tr>\n",
       "    <tr>\n",
       "      <th>30</th>\n",
       "      <td>16-02-2010</td>\n",
       "      <td>0.038726</td>\n",
       "    </tr>\n",
       "    <tr>\n",
       "      <th>31</th>\n",
       "      <td>17-02-2010</td>\n",
       "      <td>0.003767</td>\n",
       "    </tr>\n",
       "    <tr>\n",
       "      <th>32</th>\n",
       "      <td>18-02-2010</td>\n",
       "      <td>0.022001</td>\n",
       "    </tr>\n",
       "    <tr>\n",
       "      <th>33</th>\n",
       "      <td>19-02-2010</td>\n",
       "      <td>0.010130</td>\n",
       "    </tr>\n",
       "    <tr>\n",
       "      <th>34</th>\n",
       "      <td>22-02-2010</td>\n",
       "      <td>0.003385</td>\n",
       "    </tr>\n",
       "  </tbody>\n",
       "</table>\n",
       "</div>"
      ],
      "text/plain": [
       "          Date  Oil Investments\n",
       "0   31-12-2009         0.025417\n",
       "1   04-01-2010         0.026830\n",
       "2   05-01-2010         0.002699\n",
       "3   06-01-2010         0.021688\n",
       "4   07-01-2010        -0.006256\n",
       "5   08-01-2010         0.001269\n",
       "6   11-01-2010        -0.002417\n",
       "7   12-01-2010        -0.021202\n",
       "8   13-01-2010        -0.013987\n",
       "9   14-01-2010        -0.003892\n",
       "10  15-01-2010        -0.017517\n",
       "11  19-01-2010         0.013084\n",
       "12  20-01-2010        -0.013975\n",
       "13  21-01-2010        -0.020408\n",
       "14  22-01-2010        -0.020965\n",
       "15  25-01-2010         0.008754\n",
       "16  26-01-2010        -0.003071\n",
       "17  27-01-2010        -0.013794\n",
       "18  28-01-2010        -0.000272\n",
       "19  29-01-2010        -0.010459\n",
       "20  01-02-2010         0.021414\n",
       "21  02-02-2010         0.037629\n",
       "22  03-02-2010        -0.003238\n",
       "23  04-02-2010        -0.049766\n",
       "24  05-02-2010        -0.027075\n",
       "25  08-02-2010         0.010119\n",
       "26  09-02-2010         0.025602\n",
       "27  10-02-2010         0.010446\n",
       "28  11-02-2010         0.010070\n",
       "29  12-02-2010        -0.014888\n",
       "30  16-02-2010         0.038726\n",
       "31  17-02-2010         0.003767\n",
       "32  18-02-2010         0.022001\n",
       "33  19-02-2010         0.010130\n",
       "34  22-02-2010         0.003385"
      ]
     },
     "execution_count": 4,
     "metadata": {},
     "output_type": "execute_result"
    }
   ],
   "source": [
    "df.head(35)"
   ]
  },
  {
   "cell_type": "code",
   "execution_count": 5,
   "metadata": {},
   "outputs": [
    {
     "data": {
      "text/html": [
       "<div>\n",
       "<style scoped>\n",
       "    .dataframe tbody tr th:only-of-type {\n",
       "        vertical-align: middle;\n",
       "    }\n",
       "\n",
       "    .dataframe tbody tr th {\n",
       "        vertical-align: top;\n",
       "    }\n",
       "\n",
       "    .dataframe thead th {\n",
       "        text-align: right;\n",
       "    }\n",
       "</style>\n",
       "<table border=\"1\" class=\"dataframe\">\n",
       "  <thead>\n",
       "    <tr style=\"text-align: right;\">\n",
       "      <th></th>\n",
       "      <th>Date</th>\n",
       "      <th>Oil Investments</th>\n",
       "    </tr>\n",
       "  </thead>\n",
       "  <tbody>\n",
       "    <tr>\n",
       "      <th>1979</th>\n",
       "      <td>09-11-2017</td>\n",
       "      <td>0.005984</td>\n",
       "    </tr>\n",
       "    <tr>\n",
       "      <th>1980</th>\n",
       "      <td>10-11-2017</td>\n",
       "      <td>-0.007173</td>\n",
       "    </tr>\n",
       "    <tr>\n",
       "      <th>1981</th>\n",
       "      <td>13-11-2017</td>\n",
       "      <td>0.000352</td>\n",
       "    </tr>\n",
       "    <tr>\n",
       "      <th>1982</th>\n",
       "      <td>14-11-2017</td>\n",
       "      <td>-0.019376</td>\n",
       "    </tr>\n",
       "    <tr>\n",
       "      <th>1983</th>\n",
       "      <td>15-11-2017</td>\n",
       "      <td>-0.007006</td>\n",
       "    </tr>\n",
       "  </tbody>\n",
       "</table>\n",
       "</div>"
      ],
      "text/plain": [
       "            Date  Oil Investments\n",
       "1979  09-11-2017         0.005984\n",
       "1980  10-11-2017        -0.007173\n",
       "1981  13-11-2017         0.000352\n",
       "1982  14-11-2017        -0.019376\n",
       "1983  15-11-2017        -0.007006"
      ]
     },
     "execution_count": 5,
     "metadata": {},
     "output_type": "execute_result"
    }
   ],
   "source": [
    "df.tail()"
   ]
  },
  {
   "cell_type": "code",
   "execution_count": 6,
   "metadata": {},
   "outputs": [],
   "source": [
    "#df.sort_index()"
   ]
  },
  {
   "cell_type": "markdown",
   "metadata": {},
   "source": [
    "# Converting to datetime format"
   ]
  },
  {
   "cell_type": "code",
   "execution_count": 7,
   "metadata": {},
   "outputs": [],
   "source": [
    "df['Date']=pd.to_datetime(df['Date'])"
   ]
  },
  {
   "cell_type": "code",
   "execution_count": 8,
   "metadata": {},
   "outputs": [
    {
     "data": {
      "text/html": [
       "<div>\n",
       "<style scoped>\n",
       "    .dataframe tbody tr th:only-of-type {\n",
       "        vertical-align: middle;\n",
       "    }\n",
       "\n",
       "    .dataframe tbody tr th {\n",
       "        vertical-align: top;\n",
       "    }\n",
       "\n",
       "    .dataframe thead th {\n",
       "        text-align: right;\n",
       "    }\n",
       "</style>\n",
       "<table border=\"1\" class=\"dataframe\">\n",
       "  <thead>\n",
       "    <tr style=\"text-align: right;\">\n",
       "      <th></th>\n",
       "      <th>Date</th>\n",
       "      <th>Oil Investments</th>\n",
       "    </tr>\n",
       "  </thead>\n",
       "  <tbody>\n",
       "    <tr>\n",
       "      <th>0</th>\n",
       "      <td>2009-12-31</td>\n",
       "      <td>0.025417</td>\n",
       "    </tr>\n",
       "    <tr>\n",
       "      <th>1</th>\n",
       "      <td>2010-04-01</td>\n",
       "      <td>0.026830</td>\n",
       "    </tr>\n",
       "    <tr>\n",
       "      <th>2</th>\n",
       "      <td>2010-05-01</td>\n",
       "      <td>0.002699</td>\n",
       "    </tr>\n",
       "    <tr>\n",
       "      <th>3</th>\n",
       "      <td>2010-06-01</td>\n",
       "      <td>0.021688</td>\n",
       "    </tr>\n",
       "    <tr>\n",
       "      <th>4</th>\n",
       "      <td>2010-07-01</td>\n",
       "      <td>-0.006256</td>\n",
       "    </tr>\n",
       "  </tbody>\n",
       "</table>\n",
       "</div>"
      ],
      "text/plain": [
       "        Date  Oil Investments\n",
       "0 2009-12-31         0.025417\n",
       "1 2010-04-01         0.026830\n",
       "2 2010-05-01         0.002699\n",
       "3 2010-06-01         0.021688\n",
       "4 2010-07-01        -0.006256"
      ]
     },
     "execution_count": 8,
     "metadata": {},
     "output_type": "execute_result"
    }
   ],
   "source": [
    "df.head()"
   ]
  },
  {
   "cell_type": "code",
   "execution_count": 9,
   "metadata": {},
   "outputs": [
    {
     "data": {
      "text/html": [
       "<div>\n",
       "<style scoped>\n",
       "    .dataframe tbody tr th:only-of-type {\n",
       "        vertical-align: middle;\n",
       "    }\n",
       "\n",
       "    .dataframe tbody tr th {\n",
       "        vertical-align: top;\n",
       "    }\n",
       "\n",
       "    .dataframe thead th {\n",
       "        text-align: right;\n",
       "    }\n",
       "</style>\n",
       "<table border=\"1\" class=\"dataframe\">\n",
       "  <thead>\n",
       "    <tr style=\"text-align: right;\">\n",
       "      <th></th>\n",
       "      <th>Date</th>\n",
       "      <th>Oil Investments</th>\n",
       "    </tr>\n",
       "  </thead>\n",
       "  <tbody>\n",
       "    <tr>\n",
       "      <th>1979</th>\n",
       "      <td>2017-09-11</td>\n",
       "      <td>0.005984</td>\n",
       "    </tr>\n",
       "    <tr>\n",
       "      <th>1980</th>\n",
       "      <td>2017-10-11</td>\n",
       "      <td>-0.007173</td>\n",
       "    </tr>\n",
       "    <tr>\n",
       "      <th>1981</th>\n",
       "      <td>2017-11-13</td>\n",
       "      <td>0.000352</td>\n",
       "    </tr>\n",
       "    <tr>\n",
       "      <th>1982</th>\n",
       "      <td>2017-11-14</td>\n",
       "      <td>-0.019376</td>\n",
       "    </tr>\n",
       "    <tr>\n",
       "      <th>1983</th>\n",
       "      <td>2017-11-15</td>\n",
       "      <td>-0.007006</td>\n",
       "    </tr>\n",
       "  </tbody>\n",
       "</table>\n",
       "</div>"
      ],
      "text/plain": [
       "           Date  Oil Investments\n",
       "1979 2017-09-11         0.005984\n",
       "1980 2017-10-11        -0.007173\n",
       "1981 2017-11-13         0.000352\n",
       "1982 2017-11-14        -0.019376\n",
       "1983 2017-11-15        -0.007006"
      ]
     },
     "execution_count": 9,
     "metadata": {},
     "output_type": "execute_result"
    }
   ],
   "source": [
    "df.tail()"
   ]
  },
  {
   "cell_type": "markdown",
   "metadata": {},
   "source": [
    "# Creating a new dataframe without any missing days"
   ]
  },
  {
   "cell_type": "code",
   "execution_count": 10,
   "metadata": {},
   "outputs": [
    {
     "data": {
      "text/plain": [
       "array(['2009-12-31T00:00:00.000000000', '2010-01-01T00:00:00.000000000',\n",
       "       '2010-01-02T00:00:00.000000000', ...,\n",
       "       '2017-11-13T00:00:00.000000000', '2017-11-14T00:00:00.000000000',\n",
       "       '2017-11-15T00:00:00.000000000'], dtype='datetime64[ns]')"
      ]
     },
     "execution_count": 10,
     "metadata": {},
     "output_type": "execute_result"
    }
   ],
   "source": [
    "idx = np.array(pd.date_range('31-12-2009', '15-11-2017',freq='D'))\n",
    "idx"
   ]
  },
  {
   "cell_type": "code",
   "execution_count": 11,
   "metadata": {},
   "outputs": [
    {
     "data": {
      "text/plain": [
       "numpy.ndarray"
      ]
     },
     "execution_count": 11,
     "metadata": {},
     "output_type": "execute_result"
    }
   ],
   "source": [
    "type(idx)"
   ]
  },
  {
   "cell_type": "code",
   "execution_count": 12,
   "metadata": {},
   "outputs": [
    {
     "data": {
      "text/html": [
       "<div>\n",
       "<style scoped>\n",
       "    .dataframe tbody tr th:only-of-type {\n",
       "        vertical-align: middle;\n",
       "    }\n",
       "\n",
       "    .dataframe tbody tr th {\n",
       "        vertical-align: top;\n",
       "    }\n",
       "\n",
       "    .dataframe thead th {\n",
       "        text-align: right;\n",
       "    }\n",
       "</style>\n",
       "<table border=\"1\" class=\"dataframe\">\n",
       "  <thead>\n",
       "    <tr style=\"text-align: right;\">\n",
       "      <th></th>\n",
       "      <th>Date</th>\n",
       "    </tr>\n",
       "  </thead>\n",
       "  <tbody>\n",
       "    <tr>\n",
       "      <th>0</th>\n",
       "      <td>2009-12-31</td>\n",
       "    </tr>\n",
       "    <tr>\n",
       "      <th>1</th>\n",
       "      <td>2010-01-01</td>\n",
       "    </tr>\n",
       "    <tr>\n",
       "      <th>2</th>\n",
       "      <td>2010-01-02</td>\n",
       "    </tr>\n",
       "    <tr>\n",
       "      <th>3</th>\n",
       "      <td>2010-01-03</td>\n",
       "    </tr>\n",
       "    <tr>\n",
       "      <th>4</th>\n",
       "      <td>2010-01-04</td>\n",
       "    </tr>\n",
       "    <tr>\n",
       "      <th>5</th>\n",
       "      <td>2010-01-05</td>\n",
       "    </tr>\n",
       "    <tr>\n",
       "      <th>6</th>\n",
       "      <td>2010-01-06</td>\n",
       "    </tr>\n",
       "    <tr>\n",
       "      <th>7</th>\n",
       "      <td>2010-01-07</td>\n",
       "    </tr>\n",
       "    <tr>\n",
       "      <th>8</th>\n",
       "      <td>2010-01-08</td>\n",
       "    </tr>\n",
       "    <tr>\n",
       "      <th>9</th>\n",
       "      <td>2010-01-09</td>\n",
       "    </tr>\n",
       "  </tbody>\n",
       "</table>\n",
       "</div>"
      ],
      "text/plain": [
       "        Date\n",
       "0 2009-12-31\n",
       "1 2010-01-01\n",
       "2 2010-01-02\n",
       "3 2010-01-03\n",
       "4 2010-01-04\n",
       "5 2010-01-05\n",
       "6 2010-01-06\n",
       "7 2010-01-07\n",
       "8 2010-01-08\n",
       "9 2010-01-09"
      ]
     },
     "execution_count": 12,
     "metadata": {},
     "output_type": "execute_result"
    }
   ],
   "source": [
    "df_new=pd.DataFrame({'Date':idx})\n",
    "df_new.head(10)"
   ]
  },
  {
   "cell_type": "code",
   "execution_count": 13,
   "metadata": {},
   "outputs": [
    {
     "data": {
      "text/plain": [
       "(2877, 1)"
      ]
     },
     "execution_count": 13,
     "metadata": {},
     "output_type": "execute_result"
    }
   ],
   "source": [
    "df_new.shape"
   ]
  },
  {
   "cell_type": "code",
   "execution_count": 14,
   "metadata": {},
   "outputs": [
    {
     "data": {
      "text/html": [
       "<div>\n",
       "<style scoped>\n",
       "    .dataframe tbody tr th:only-of-type {\n",
       "        vertical-align: middle;\n",
       "    }\n",
       "\n",
       "    .dataframe tbody tr th {\n",
       "        vertical-align: top;\n",
       "    }\n",
       "\n",
       "    .dataframe thead th {\n",
       "        text-align: right;\n",
       "    }\n",
       "</style>\n",
       "<table border=\"1\" class=\"dataframe\">\n",
       "  <thead>\n",
       "    <tr style=\"text-align: right;\">\n",
       "      <th></th>\n",
       "      <th>Date</th>\n",
       "    </tr>\n",
       "  </thead>\n",
       "  <tbody>\n",
       "    <tr>\n",
       "      <th>2872</th>\n",
       "      <td>2017-11-11</td>\n",
       "    </tr>\n",
       "    <tr>\n",
       "      <th>2873</th>\n",
       "      <td>2017-11-12</td>\n",
       "    </tr>\n",
       "    <tr>\n",
       "      <th>2874</th>\n",
       "      <td>2017-11-13</td>\n",
       "    </tr>\n",
       "    <tr>\n",
       "      <th>2875</th>\n",
       "      <td>2017-11-14</td>\n",
       "    </tr>\n",
       "    <tr>\n",
       "      <th>2876</th>\n",
       "      <td>2017-11-15</td>\n",
       "    </tr>\n",
       "  </tbody>\n",
       "</table>\n",
       "</div>"
      ],
      "text/plain": [
       "           Date\n",
       "2872 2017-11-11\n",
       "2873 2017-11-12\n",
       "2874 2017-11-13\n",
       "2875 2017-11-14\n",
       "2876 2017-11-15"
      ]
     },
     "execution_count": 14,
     "metadata": {},
     "output_type": "execute_result"
    }
   ],
   "source": [
    "df_new.tail()"
   ]
  },
  {
   "cell_type": "code",
   "execution_count": 15,
   "metadata": {},
   "outputs": [
    {
     "data": {
      "text/html": [
       "<div>\n",
       "<style scoped>\n",
       "    .dataframe tbody tr th:only-of-type {\n",
       "        vertical-align: middle;\n",
       "    }\n",
       "\n",
       "    .dataframe tbody tr th {\n",
       "        vertical-align: top;\n",
       "    }\n",
       "\n",
       "    .dataframe thead th {\n",
       "        text-align: right;\n",
       "    }\n",
       "</style>\n",
       "<table border=\"1\" class=\"dataframe\">\n",
       "  <thead>\n",
       "    <tr style=\"text-align: right;\">\n",
       "      <th></th>\n",
       "      <th>Date</th>\n",
       "      <th>Oil Investments</th>\n",
       "    </tr>\n",
       "  </thead>\n",
       "  <tbody>\n",
       "    <tr>\n",
       "      <th>1979</th>\n",
       "      <td>2017-09-11</td>\n",
       "      <td>0.005984</td>\n",
       "    </tr>\n",
       "    <tr>\n",
       "      <th>1980</th>\n",
       "      <td>2017-10-11</td>\n",
       "      <td>-0.007173</td>\n",
       "    </tr>\n",
       "    <tr>\n",
       "      <th>1981</th>\n",
       "      <td>2017-11-13</td>\n",
       "      <td>0.000352</td>\n",
       "    </tr>\n",
       "    <tr>\n",
       "      <th>1982</th>\n",
       "      <td>2017-11-14</td>\n",
       "      <td>-0.019376</td>\n",
       "    </tr>\n",
       "    <tr>\n",
       "      <th>1983</th>\n",
       "      <td>2017-11-15</td>\n",
       "      <td>-0.007006</td>\n",
       "    </tr>\n",
       "  </tbody>\n",
       "</table>\n",
       "</div>"
      ],
      "text/plain": [
       "           Date  Oil Investments\n",
       "1979 2017-09-11         0.005984\n",
       "1980 2017-10-11        -0.007173\n",
       "1981 2017-11-13         0.000352\n",
       "1982 2017-11-14        -0.019376\n",
       "1983 2017-11-15        -0.007006"
      ]
     },
     "execution_count": 15,
     "metadata": {},
     "output_type": "execute_result"
    }
   ],
   "source": [
    "df.tail()"
   ]
  },
  {
   "cell_type": "markdown",
   "metadata": {},
   "source": [
    "# Merging the dataframes"
   ]
  },
  {
   "cell_type": "code",
   "execution_count": 16,
   "metadata": {},
   "outputs": [],
   "source": [
    "df_merge=pd.merge(df_new,df,on='Date',how='outer',indicator=True)"
   ]
  },
  {
   "cell_type": "code",
   "execution_count": 17,
   "metadata": {},
   "outputs": [
    {
     "data": {
      "text/html": [
       "<div>\n",
       "<style scoped>\n",
       "    .dataframe tbody tr th:only-of-type {\n",
       "        vertical-align: middle;\n",
       "    }\n",
       "\n",
       "    .dataframe tbody tr th {\n",
       "        vertical-align: top;\n",
       "    }\n",
       "\n",
       "    .dataframe thead th {\n",
       "        text-align: right;\n",
       "    }\n",
       "</style>\n",
       "<table border=\"1\" class=\"dataframe\">\n",
       "  <thead>\n",
       "    <tr style=\"text-align: right;\">\n",
       "      <th></th>\n",
       "      <th>Date</th>\n",
       "      <th>Oil Investments</th>\n",
       "      <th>_merge</th>\n",
       "    </tr>\n",
       "  </thead>\n",
       "  <tbody>\n",
       "    <tr>\n",
       "      <th>0</th>\n",
       "      <td>2009-12-31</td>\n",
       "      <td>0.025417</td>\n",
       "      <td>both</td>\n",
       "    </tr>\n",
       "    <tr>\n",
       "      <th>1</th>\n",
       "      <td>2010-01-01</td>\n",
       "      <td>NaN</td>\n",
       "      <td>left_only</td>\n",
       "    </tr>\n",
       "    <tr>\n",
       "      <th>2</th>\n",
       "      <td>2010-01-02</td>\n",
       "      <td>0.021414</td>\n",
       "      <td>both</td>\n",
       "    </tr>\n",
       "    <tr>\n",
       "      <th>3</th>\n",
       "      <td>2010-01-03</td>\n",
       "      <td>-0.012669</td>\n",
       "      <td>both</td>\n",
       "    </tr>\n",
       "    <tr>\n",
       "      <th>4</th>\n",
       "      <td>2010-01-04</td>\n",
       "      <td>0.012942</td>\n",
       "      <td>both</td>\n",
       "    </tr>\n",
       "    <tr>\n",
       "      <th>5</th>\n",
       "      <td>2010-01-05</td>\n",
       "      <td>NaN</td>\n",
       "      <td>left_only</td>\n",
       "    </tr>\n",
       "    <tr>\n",
       "      <th>6</th>\n",
       "      <td>2010-01-06</td>\n",
       "      <td>-0.017568</td>\n",
       "      <td>both</td>\n",
       "    </tr>\n",
       "    <tr>\n",
       "      <th>7</th>\n",
       "      <td>2010-01-07</td>\n",
       "      <td>-0.034925</td>\n",
       "      <td>both</td>\n",
       "    </tr>\n",
       "    <tr>\n",
       "      <th>8</th>\n",
       "      <td>2010-01-08</td>\n",
       "      <td>NaN</td>\n",
       "      <td>left_only</td>\n",
       "    </tr>\n",
       "    <tr>\n",
       "      <th>9</th>\n",
       "      <td>2010-01-09</td>\n",
       "      <td>0.028361</td>\n",
       "      <td>both</td>\n",
       "    </tr>\n",
       "    <tr>\n",
       "      <th>10</th>\n",
       "      <td>2010-01-10</td>\n",
       "      <td>0.020263</td>\n",
       "      <td>both</td>\n",
       "    </tr>\n",
       "    <tr>\n",
       "      <th>11</th>\n",
       "      <td>2010-01-11</td>\n",
       "      <td>0.018293</td>\n",
       "      <td>both</td>\n",
       "    </tr>\n",
       "    <tr>\n",
       "      <th>12</th>\n",
       "      <td>2010-01-12</td>\n",
       "      <td>0.031265</td>\n",
       "      <td>both</td>\n",
       "    </tr>\n",
       "    <tr>\n",
       "      <th>13</th>\n",
       "      <td>2010-01-13</td>\n",
       "      <td>-0.013987</td>\n",
       "      <td>both</td>\n",
       "    </tr>\n",
       "    <tr>\n",
       "      <th>14</th>\n",
       "      <td>2010-01-14</td>\n",
       "      <td>-0.003892</td>\n",
       "      <td>both</td>\n",
       "    </tr>\n",
       "  </tbody>\n",
       "</table>\n",
       "</div>"
      ],
      "text/plain": [
       "         Date  Oil Investments     _merge\n",
       "0  2009-12-31         0.025417       both\n",
       "1  2010-01-01              NaN  left_only\n",
       "2  2010-01-02         0.021414       both\n",
       "3  2010-01-03        -0.012669       both\n",
       "4  2010-01-04         0.012942       both\n",
       "5  2010-01-05              NaN  left_only\n",
       "6  2010-01-06        -0.017568       both\n",
       "7  2010-01-07        -0.034925       both\n",
       "8  2010-01-08              NaN  left_only\n",
       "9  2010-01-09         0.028361       both\n",
       "10 2010-01-10         0.020263       both\n",
       "11 2010-01-11         0.018293       both\n",
       "12 2010-01-12         0.031265       both\n",
       "13 2010-01-13        -0.013987       both\n",
       "14 2010-01-14        -0.003892       both"
      ]
     },
     "execution_count": 17,
     "metadata": {},
     "output_type": "execute_result"
    }
   ],
   "source": [
    "df_merge.head(15)"
   ]
  },
  {
   "cell_type": "code",
   "execution_count": 18,
   "metadata": {},
   "outputs": [
    {
     "data": {
      "text/html": [
       "<div>\n",
       "<style scoped>\n",
       "    .dataframe tbody tr th:only-of-type {\n",
       "        vertical-align: middle;\n",
       "    }\n",
       "\n",
       "    .dataframe tbody tr th {\n",
       "        vertical-align: top;\n",
       "    }\n",
       "\n",
       "    .dataframe thead th {\n",
       "        text-align: right;\n",
       "    }\n",
       "</style>\n",
       "<table border=\"1\" class=\"dataframe\">\n",
       "  <thead>\n",
       "    <tr style=\"text-align: right;\">\n",
       "      <th></th>\n",
       "      <th>Date</th>\n",
       "      <th>Oil Investments</th>\n",
       "      <th>_merge</th>\n",
       "    </tr>\n",
       "  </thead>\n",
       "  <tbody>\n",
       "    <tr>\n",
       "      <th>2854</th>\n",
       "      <td>2017-10-24</td>\n",
       "      <td>0.007898</td>\n",
       "      <td>both</td>\n",
       "    </tr>\n",
       "    <tr>\n",
       "      <th>2855</th>\n",
       "      <td>2017-10-25</td>\n",
       "      <td>-0.006690</td>\n",
       "      <td>both</td>\n",
       "    </tr>\n",
       "    <tr>\n",
       "      <th>2856</th>\n",
       "      <td>2017-10-26</td>\n",
       "      <td>0.008466</td>\n",
       "      <td>both</td>\n",
       "    </tr>\n",
       "    <tr>\n",
       "      <th>2857</th>\n",
       "      <td>2017-10-27</td>\n",
       "      <td>0.028811</td>\n",
       "      <td>both</td>\n",
       "    </tr>\n",
       "    <tr>\n",
       "      <th>2858</th>\n",
       "      <td>2017-10-28</td>\n",
       "      <td>NaN</td>\n",
       "      <td>left_only</td>\n",
       "    </tr>\n",
       "    <tr>\n",
       "      <th>2859</th>\n",
       "      <td>2017-10-29</td>\n",
       "      <td>NaN</td>\n",
       "      <td>left_only</td>\n",
       "    </tr>\n",
       "    <tr>\n",
       "      <th>2860</th>\n",
       "      <td>2017-10-30</td>\n",
       "      <td>0.003524</td>\n",
       "      <td>both</td>\n",
       "    </tr>\n",
       "    <tr>\n",
       "      <th>2861</th>\n",
       "      <td>2017-10-31</td>\n",
       "      <td>0.004620</td>\n",
       "      <td>both</td>\n",
       "    </tr>\n",
       "    <tr>\n",
       "      <th>2862</th>\n",
       "      <td>2017-11-01</td>\n",
       "      <td>0.026958</td>\n",
       "      <td>both</td>\n",
       "    </tr>\n",
       "    <tr>\n",
       "      <th>2863</th>\n",
       "      <td>2017-11-02</td>\n",
       "      <td>NaN</td>\n",
       "      <td>left_only</td>\n",
       "    </tr>\n",
       "    <tr>\n",
       "      <th>2864</th>\n",
       "      <td>2017-11-03</td>\n",
       "      <td>NaN</td>\n",
       "      <td>left_only</td>\n",
       "    </tr>\n",
       "    <tr>\n",
       "      <th>2865</th>\n",
       "      <td>2017-11-04</td>\n",
       "      <td>0.006031</td>\n",
       "      <td>both</td>\n",
       "    </tr>\n",
       "    <tr>\n",
       "      <th>2866</th>\n",
       "      <td>2017-11-05</td>\n",
       "      <td>0.011210</td>\n",
       "      <td>both</td>\n",
       "    </tr>\n",
       "    <tr>\n",
       "      <th>2867</th>\n",
       "      <td>2017-11-06</td>\n",
       "      <td>NaN</td>\n",
       "      <td>left_only</td>\n",
       "    </tr>\n",
       "    <tr>\n",
       "      <th>2868</th>\n",
       "      <td>2017-11-07</td>\n",
       "      <td>0.014865</td>\n",
       "      <td>both</td>\n",
       "    </tr>\n",
       "    <tr>\n",
       "      <th>2869</th>\n",
       "      <td>2017-11-08</td>\n",
       "      <td>0.005562</td>\n",
       "      <td>both</td>\n",
       "    </tr>\n",
       "    <tr>\n",
       "      <th>2870</th>\n",
       "      <td>2017-11-09</td>\n",
       "      <td>0.013069</td>\n",
       "      <td>both</td>\n",
       "    </tr>\n",
       "    <tr>\n",
       "      <th>2871</th>\n",
       "      <td>2017-11-10</td>\n",
       "      <td>0.007265</td>\n",
       "      <td>both</td>\n",
       "    </tr>\n",
       "    <tr>\n",
       "      <th>2872</th>\n",
       "      <td>2017-11-11</td>\n",
       "      <td>NaN</td>\n",
       "      <td>left_only</td>\n",
       "    </tr>\n",
       "    <tr>\n",
       "      <th>2873</th>\n",
       "      <td>2017-11-12</td>\n",
       "      <td>NaN</td>\n",
       "      <td>left_only</td>\n",
       "    </tr>\n",
       "    <tr>\n",
       "      <th>2874</th>\n",
       "      <td>2017-11-13</td>\n",
       "      <td>0.000352</td>\n",
       "      <td>both</td>\n",
       "    </tr>\n",
       "    <tr>\n",
       "      <th>2875</th>\n",
       "      <td>2017-11-14</td>\n",
       "      <td>-0.019376</td>\n",
       "      <td>both</td>\n",
       "    </tr>\n",
       "    <tr>\n",
       "      <th>2876</th>\n",
       "      <td>2017-11-15</td>\n",
       "      <td>-0.007006</td>\n",
       "      <td>both</td>\n",
       "    </tr>\n",
       "    <tr>\n",
       "      <th>2877</th>\n",
       "      <td>2017-12-01</td>\n",
       "      <td>0.015712</td>\n",
       "      <td>right_only</td>\n",
       "    </tr>\n",
       "    <tr>\n",
       "      <th>2878</th>\n",
       "      <td>2017-12-04</td>\n",
       "      <td>-0.004871</td>\n",
       "      <td>right_only</td>\n",
       "    </tr>\n",
       "    <tr>\n",
       "      <th>2879</th>\n",
       "      <td>2017-12-05</td>\n",
       "      <td>0.000418</td>\n",
       "      <td>right_only</td>\n",
       "    </tr>\n",
       "    <tr>\n",
       "      <th>2880</th>\n",
       "      <td>2017-12-06</td>\n",
       "      <td>0.006111</td>\n",
       "      <td>right_only</td>\n",
       "    </tr>\n",
       "    <tr>\n",
       "      <th>2881</th>\n",
       "      <td>2017-12-07</td>\n",
       "      <td>0.009321</td>\n",
       "      <td>right_only</td>\n",
       "    </tr>\n",
       "    <tr>\n",
       "      <th>2882</th>\n",
       "      <td>2017-12-09</td>\n",
       "      <td>0.003121</td>\n",
       "      <td>right_only</td>\n",
       "    </tr>\n",
       "    <tr>\n",
       "      <th>2883</th>\n",
       "      <td>2017-12-10</td>\n",
       "      <td>-0.013450</td>\n",
       "      <td>right_only</td>\n",
       "    </tr>\n",
       "  </tbody>\n",
       "</table>\n",
       "</div>"
      ],
      "text/plain": [
       "           Date  Oil Investments      _merge\n",
       "2854 2017-10-24         0.007898        both\n",
       "2855 2017-10-25        -0.006690        both\n",
       "2856 2017-10-26         0.008466        both\n",
       "2857 2017-10-27         0.028811        both\n",
       "2858 2017-10-28              NaN   left_only\n",
       "2859 2017-10-29              NaN   left_only\n",
       "2860 2017-10-30         0.003524        both\n",
       "2861 2017-10-31         0.004620        both\n",
       "2862 2017-11-01         0.026958        both\n",
       "2863 2017-11-02              NaN   left_only\n",
       "2864 2017-11-03              NaN   left_only\n",
       "2865 2017-11-04         0.006031        both\n",
       "2866 2017-11-05         0.011210        both\n",
       "2867 2017-11-06              NaN   left_only\n",
       "2868 2017-11-07         0.014865        both\n",
       "2869 2017-11-08         0.005562        both\n",
       "2870 2017-11-09         0.013069        both\n",
       "2871 2017-11-10         0.007265        both\n",
       "2872 2017-11-11              NaN   left_only\n",
       "2873 2017-11-12              NaN   left_only\n",
       "2874 2017-11-13         0.000352        both\n",
       "2875 2017-11-14        -0.019376        both\n",
       "2876 2017-11-15        -0.007006        both\n",
       "2877 2017-12-01         0.015712  right_only\n",
       "2878 2017-12-04        -0.004871  right_only\n",
       "2879 2017-12-05         0.000418  right_only\n",
       "2880 2017-12-06         0.006111  right_only\n",
       "2881 2017-12-07         0.009321  right_only\n",
       "2882 2017-12-09         0.003121  right_only\n",
       "2883 2017-12-10        -0.013450  right_only"
      ]
     },
     "execution_count": 18,
     "metadata": {},
     "output_type": "execute_result"
    }
   ],
   "source": [
    "df_merge.tail(30)"
   ]
  },
  {
   "cell_type": "code",
   "execution_count": 19,
   "metadata": {},
   "outputs": [
    {
     "data": {
      "text/plain": [
       "Date                 0\n",
       "Oil Investments    900\n",
       "_merge               0\n",
       "dtype: int64"
      ]
     },
     "execution_count": 19,
     "metadata": {},
     "output_type": "execute_result"
    }
   ],
   "source": [
    "df_merge.isnull().sum()"
   ]
  },
  {
   "cell_type": "code",
   "execution_count": 20,
   "metadata": {},
   "outputs": [
    {
     "data": {
      "text/plain": [
       "(2884, 3)"
      ]
     },
     "execution_count": 20,
     "metadata": {},
     "output_type": "execute_result"
    }
   ],
   "source": [
    "df_merge.shape"
   ]
  },
  {
   "cell_type": "markdown",
   "metadata": {},
   "source": [
    "# Filling the missing values"
   ]
  },
  {
   "cell_type": "code",
   "execution_count": 21,
   "metadata": {},
   "outputs": [],
   "source": [
    "df_merge['Oil Investments']=df_merge['Oil Investments'].fillna(0)"
   ]
  },
  {
   "cell_type": "code",
   "execution_count": 22,
   "metadata": {},
   "outputs": [
    {
     "data": {
      "text/plain": [
       "Date               0\n",
       "Oil Investments    0\n",
       "_merge             0\n",
       "dtype: int64"
      ]
     },
     "execution_count": 22,
     "metadata": {},
     "output_type": "execute_result"
    }
   ],
   "source": [
    "df_merge.isnull().sum()"
   ]
  },
  {
   "cell_type": "markdown",
   "metadata": {},
   "source": [
    "# df_oil=df_merge"
   ]
  },
  {
   "cell_type": "code",
   "execution_count": 23,
   "metadata": {},
   "outputs": [],
   "source": [
    "df_oil=df_merge"
   ]
  },
  {
   "cell_type": "markdown",
   "metadata": {},
   "source": [
    "# Setting the 'Date' feature as index"
   ]
  },
  {
   "cell_type": "code",
   "execution_count": 24,
   "metadata": {},
   "outputs": [],
   "source": [
    "df_oil.set_index('Date',inplace=True)"
   ]
  },
  {
   "cell_type": "code",
   "execution_count": 25,
   "metadata": {},
   "outputs": [
    {
     "data": {
      "text/html": [
       "<div>\n",
       "<style scoped>\n",
       "    .dataframe tbody tr th:only-of-type {\n",
       "        vertical-align: middle;\n",
       "    }\n",
       "\n",
       "    .dataframe tbody tr th {\n",
       "        vertical-align: top;\n",
       "    }\n",
       "\n",
       "    .dataframe thead th {\n",
       "        text-align: right;\n",
       "    }\n",
       "</style>\n",
       "<table border=\"1\" class=\"dataframe\">\n",
       "  <thead>\n",
       "    <tr style=\"text-align: right;\">\n",
       "      <th></th>\n",
       "      <th>Oil Investments</th>\n",
       "      <th>_merge</th>\n",
       "    </tr>\n",
       "    <tr>\n",
       "      <th>Date</th>\n",
       "      <th></th>\n",
       "      <th></th>\n",
       "    </tr>\n",
       "  </thead>\n",
       "  <tbody>\n",
       "    <tr>\n",
       "      <th>2009-12-31</th>\n",
       "      <td>0.025417</td>\n",
       "      <td>both</td>\n",
       "    </tr>\n",
       "    <tr>\n",
       "      <th>2010-01-01</th>\n",
       "      <td>0.000000</td>\n",
       "      <td>left_only</td>\n",
       "    </tr>\n",
       "    <tr>\n",
       "      <th>2010-01-02</th>\n",
       "      <td>0.021414</td>\n",
       "      <td>both</td>\n",
       "    </tr>\n",
       "    <tr>\n",
       "      <th>2010-01-03</th>\n",
       "      <td>-0.012669</td>\n",
       "      <td>both</td>\n",
       "    </tr>\n",
       "    <tr>\n",
       "      <th>2010-01-04</th>\n",
       "      <td>0.012942</td>\n",
       "      <td>both</td>\n",
       "    </tr>\n",
       "  </tbody>\n",
       "</table>\n",
       "</div>"
      ],
      "text/plain": [
       "            Oil Investments     _merge\n",
       "Date                                  \n",
       "2009-12-31         0.025417       both\n",
       "2010-01-01         0.000000  left_only\n",
       "2010-01-02         0.021414       both\n",
       "2010-01-03        -0.012669       both\n",
       "2010-01-04         0.012942       both"
      ]
     },
     "execution_count": 25,
     "metadata": {},
     "output_type": "execute_result"
    }
   ],
   "source": [
    "df_oil.head()"
   ]
  },
  {
   "cell_type": "code",
   "execution_count": 26,
   "metadata": {},
   "outputs": [],
   "source": [
    "df_oil=df_oil.drop('_merge',axis=1)"
   ]
  },
  {
   "cell_type": "code",
   "execution_count": 27,
   "metadata": {},
   "outputs": [
    {
     "data": {
      "text/html": [
       "<div>\n",
       "<style scoped>\n",
       "    .dataframe tbody tr th:only-of-type {\n",
       "        vertical-align: middle;\n",
       "    }\n",
       "\n",
       "    .dataframe tbody tr th {\n",
       "        vertical-align: top;\n",
       "    }\n",
       "\n",
       "    .dataframe thead th {\n",
       "        text-align: right;\n",
       "    }\n",
       "</style>\n",
       "<table border=\"1\" class=\"dataframe\">\n",
       "  <thead>\n",
       "    <tr style=\"text-align: right;\">\n",
       "      <th></th>\n",
       "      <th>Oil Investments</th>\n",
       "    </tr>\n",
       "    <tr>\n",
       "      <th>Date</th>\n",
       "      <th></th>\n",
       "    </tr>\n",
       "  </thead>\n",
       "  <tbody>\n",
       "    <tr>\n",
       "      <th>2009-12-31</th>\n",
       "      <td>0.025417</td>\n",
       "    </tr>\n",
       "    <tr>\n",
       "      <th>2010-01-01</th>\n",
       "      <td>0.000000</td>\n",
       "    </tr>\n",
       "    <tr>\n",
       "      <th>2010-01-02</th>\n",
       "      <td>0.021414</td>\n",
       "    </tr>\n",
       "    <tr>\n",
       "      <th>2010-01-03</th>\n",
       "      <td>-0.012669</td>\n",
       "    </tr>\n",
       "    <tr>\n",
       "      <th>2010-01-04</th>\n",
       "      <td>0.012942</td>\n",
       "    </tr>\n",
       "  </tbody>\n",
       "</table>\n",
       "</div>"
      ],
      "text/plain": [
       "            Oil Investments\n",
       "Date                       \n",
       "2009-12-31         0.025417\n",
       "2010-01-01         0.000000\n",
       "2010-01-02         0.021414\n",
       "2010-01-03        -0.012669\n",
       "2010-01-04         0.012942"
      ]
     },
     "execution_count": 27,
     "metadata": {},
     "output_type": "execute_result"
    }
   ],
   "source": [
    "df_oil.head()"
   ]
  },
  {
   "cell_type": "markdown",
   "metadata": {},
   "source": [
    "# Analysis Start(A,B,C)"
   ]
  },
  {
   "cell_type": "markdown",
   "metadata": {},
   "source": [
    "# A)Checking for white noise"
   ]
  },
  {
   "cell_type": "code",
   "execution_count": 28,
   "metadata": {},
   "outputs": [
    {
     "data": {
      "text/plain": [
       "2884"
      ]
     },
     "execution_count": 28,
     "metadata": {},
     "output_type": "execute_result"
    }
   ],
   "source": [
    "df_oil.index.nunique() "
   ]
  },
  {
   "cell_type": "markdown",
   "metadata": {},
   "source": [
    "# All unique values ,  i.e  No white noise in data(No duplicate index).\n",
    "# We can proceed with time series analysis."
   ]
  },
  {
   "cell_type": "code",
   "execution_count": 29,
   "metadata": {},
   "outputs": [
    {
     "data": {
      "text/plain": [
       "(2884, 1)"
      ]
     },
     "execution_count": 29,
     "metadata": {},
     "output_type": "execute_result"
    }
   ],
   "source": [
    "df_oil.shape"
   ]
  },
  {
   "cell_type": "code",
   "execution_count": 30,
   "metadata": {},
   "outputs": [
    {
     "data": {
      "text/plain": [
       "<matplotlib.axes._subplots.AxesSubplot at 0x1f5726cc940>"
      ]
     },
     "execution_count": 30,
     "metadata": {},
     "output_type": "execute_result"
    },
    {
     "data": {
      "image/png": "[encoded data removed]",
      "text/plain": [
       "<Figure size 432x288 with 2 Axes>"
      ]
     },
     "metadata": {
      "needs_background": "light"
     },
     "output_type": "display_data"
    }
   ],
   "source": [
    "import seaborn as sns\n",
    "sns.heatmap(df_oil.isnull())"
   ]
  },
  {
   "cell_type": "markdown",
   "metadata": {},
   "source": [
    "## Step 2: Visualize the Data"
   ]
  },
  {
   "cell_type": "code",
   "execution_count": 31,
   "metadata": {},
   "outputs": [
    {
     "data": {
      "text/plain": [
       "<matplotlib.axes._subplots.AxesSubplot at 0x1f572ed8f70>"
      ]
     },
     "execution_count": 31,
     "metadata": {},
     "output_type": "execute_result"
    },
    {
     "data": {
      "image/png": "[encoded data removed]",
      "text/plain": [
       "<Figure size 432x288 with 1 Axes>"
      ]
     },
     "metadata": {
      "needs_background": "light"
     },
     "output_type": "display_data"
    }
   ],
   "source": [
    "df_oil.plot()"
   ]
  },
  {
   "cell_type": "markdown",
   "metadata": {},
   "source": [
    "# B)Selecting the model after visualization above"
   ]
  },
  {
   "cell_type": "markdown",
   "metadata": {},
   "source": [
    "###### In above plot data looks non-seasonal /  irregular .\n",
    "\n",
    "   Usually in seasonal data we use SARIMAX.\n",
    "           in irregular(non-seasonal) we use ARIMAX.\n",
    "           \n",
    "   Here we will implement ARIMAX as our data looks non-seasonal /  irregular.\n",
    "   Before that,Now\n",
    "\n",
    "###### we will check if data is STATIONARY or not."
   ]
  },
  {
   "cell_type": "markdown",
   "metadata": {},
   "source": [
    "# df_oil--> we will implement ARIMAX as our data looks non-seasonal / irregular"
   ]
  },
  {
   "cell_type": "markdown",
   "metadata": {},
   "source": [
    "# C)Testing For Stationarity"
   ]
  },
  {
   "cell_type": "code",
   "execution_count": 32,
   "metadata": {},
   "outputs": [],
   "source": [
    "### Testing For Stationarity\n",
    "\n",
    "from statsmodels.tsa.stattools import adfuller"
   ]
  },
  {
   "cell_type": "code",
   "execution_count": 33,
   "metadata": {},
   "outputs": [],
   "source": [
    "test_result=adfuller(df_oil['Oil Investments']) # adfuller give us 5 values"
   ]
  },
  {
   "cell_type": "code",
   "execution_count": 34,
   "metadata": {
    "scrolled": true
   },
   "outputs": [
    {
     "name": "stdout",
     "output_type": "stream",
     "text": [
      " The Values given as output by adfuller is : \n",
      " 'ADF Test Statistic','p-value','#Lags Used','Number of Observations Used'\n",
      "\n",
      " (-54.3166110073269, 0.0, 0, 2883, {'1%': -3.432620250421088, '5%': -2.8625430431586545, '10%': -2.567303948779845}, -12805.406322486724)\n"
     ]
    }
   ],
   "source": [
    "  # just showing the ouput of test_result\n",
    "print(\" The Values given as output by adfuller is : \\n 'ADF Test Statistic','p-value','#Lags Used','Number of Observations Used'\\n\\n\",test_result)"
   ]
  },
  {
   "cell_type": "markdown",
   "metadata": {},
   "source": [
    "### Most important value is p-value above(2nd value(0.0))"
   ]
  },
  {
   "cell_type": "markdown",
   "metadata": {},
   "source": [
    "# Ho(null hypothesis): time series is non-stationary          \n",
    "# H1(altenative): time series is stationary"
   ]
  },
  {
   "cell_type": "markdown",
   "metadata": {},
   "source": [
    "# Step-1.Rolling/Addfuller"
   ]
  },
  {
   "cell_type": "code",
   "execution_count": 35,
   "metadata": {},
   "outputs": [],
   "source": [
    "#Ho: It is non stationary\n",
    "#H1: It is stationary\n",
    "#considered 0.05 in general.\n",
    "\n",
    "def adfuller_test(sales):\n",
    "    result=adfuller(sales) \n",
    "    labels = ['ADF Test Statistic','p-value','#Lags Used','Number of Observations Used']\n",
    "    for value,label in zip(result,labels):\n",
    "        print(label+' : '+str(value) )\n",
    "    if result[1] <= 0.05:\n",
    "        print(\"strong evidence against the null hypothesis(Ho), Hence reject the null hypothesis. Data  is stationary\")\n",
    "    else:\n",
    "        print(\"weak evidence against null hypothesis, time series is non-stationary \")\n",
    "    "
   ]
  },
  {
   "cell_type": "code",
   "execution_count": 36,
   "metadata": {},
   "outputs": [
    {
     "name": "stdout",
     "output_type": "stream",
     "text": [
      "ADF Test Statistic : -54.3166110073269\n",
      "p-value : 0.0\n",
      "#Lags Used : 0\n",
      "Number of Observations Used : 2883\n",
      "strong evidence against the null hypothesis(Ho), Hence reject the null hypothesis. Data  is stationary\n"
     ]
    }
   ],
   "source": [
    "adfuller_test(df_oil['Oil Investments']) #call the function"
   ]
  },
  {
   "cell_type": "raw",
   "metadata": {},
   "source": [
    "As p-value=0 which is less than 0.05 we are going to accept the alternate hypothesis(H1)-- time series is stationary.\n",
    "In simple words-- stationary< pvalue(0.05) >non-stationary\n",
    "     directly model building                (to make data stationary use differencing technique,then build model)"
   ]
  },
  {
   "attachments": {
    "image.png": {
     "image/png": "[encoded data removed]"
    }
   },
   "cell_type": "markdown",
   "metadata": {},
   "source": [
    "## Auto Regressive Model(AR)--Just for visualization\n",
    "![image.png](attachment:image.png)"
   ]
  },
  {
   "cell_type": "code",
   "execution_count": 37,
   "metadata": {},
   "outputs": [
    {
     "data": {
      "image/png": "[encoded data removed]",
      "text/plain": [
       "<Figure size 432x288 with 1 Axes>"
      ]
     },
     "metadata": {
      "needs_background": "light"
     },
     "output_type": "display_data"
    }
   ],
   "source": [
    "from pandas.plotting import autocorrelation_plot\n",
    "autocorrelation_plot(df_oil['Oil Investments']) \n",
    "plt.show()"
   ]
  },
  {
   "cell_type": "markdown",
   "metadata": {},
   "source": [
    "# Plotting ACF(Autocorrelation) & PACF(Partial Autocorrelation)"
   ]
  },
  {
   "cell_type": "code",
   "execution_count": 38,
   "metadata": {},
   "outputs": [],
   "source": [
    "from statsmodels.graphics.tsaplots import plot_acf,plot_pacf\n",
    "import statsmodels.api as sm"
   ]
  },
  {
   "cell_type": "code",
   "execution_count": 39,
   "metadata": {},
   "outputs": [
    {
     "data": {
      "image/png": "[encoded data removed]",
      "text/plain": [
       "<Figure size 864x576 with 2 Axes>"
      ]
     },
     "metadata": {
      "needs_background": "light"
     },
     "output_type": "display_data"
    }
   ],
   "source": [
    "fig = plt.figure(figsize=(12,8))\n",
    "ax1 = fig.add_subplot(211)\n",
    "\n",
    "fig = sm.graphics.tsa.plot_acf(df_oil['Oil Investments'],lags=250,ax=ax1)\n",
    "ax2 = fig.add_subplot(212)\n",
    "fig = sm.graphics.tsa.plot_pacf(df_oil['Oil Investments'],lags=250,ax=ax2)"
   ]
  },
  {
   "cell_type": "markdown",
   "metadata": {},
   "source": [
    "# D)Model Building-->Arima model Implementation"
   ]
  },
  {
   "cell_type": "code",
   "execution_count": 40,
   "metadata": {},
   "outputs": [],
   "source": [
    "# For non-seasonal data\n",
    "#p=1, d=1, q=0 or 1\n",
    "\n",
    "from statsmodels.tsa.arima_model import ARIMA"
   ]
  },
  {
   "cell_type": "markdown",
   "metadata": {},
   "source": [
    "# Training the model(df_oil)"
   ]
  },
  {
   "cell_type": "raw",
   "metadata": {},
   "source": [
    "#Date/Time format of index gives warning while fitting the data,hence changing the datatype of the index acccording to the data(monthly,quaterly,anually,daily).\n",
    "\n",
    "\n",
    "#Monthly-->'M'\n",
    "#Quaterly-->'QS'\n",
    "#Anually-->'A'\n",
    "#Daily-->'D' \n",
    "\n",
    "Below:-\n",
    "\n",
    "shift+tab infront pd.period_range\n",
    "\n",
    "https://pandas.pydata.org/pandas-docs/stable/user_guide/timeseries.html#offset-aliases\n",
    "\n",
    "freq : str or DateOffset, optional\n",
    "    Frequency alias. By default the freq is taken from `start` or `end`\n",
    "    if those are Period objects. Otherwise, the default is ``\"D\"`` for\n",
    "    daily frequency."
   ]
  },
  {
   "cell_type": "raw",
   "metadata": {},
   "source": [
    "# Annual frequency, using a PeriodIndex\n",
    "index = pd.period_range(start='2000', periods=4, freq='A')\n",
    "endog1 = pd.Series([1, 2, 3, 4], index=index)\n",
    "print(endog1.index)"
   ]
  },
  {
   "cell_type": "markdown",
   "metadata": {},
   "source": [
    "# Converting date/time index to period[D] as our data is in days."
   ]
  },
  {
   "cell_type": "code",
   "execution_count": 41,
   "metadata": {},
   "outputs": [],
   "source": [
    "df_oil.index = pd.DatetimeIndex(df_oil.index).to_period('D')\n",
    "                         #changing the dataframe index to period in days\n",
    "    #this is done to silence the warning of feeding a datetime format in the index"
   ]
  },
  {
   "cell_type": "code",
   "execution_count": 42,
   "metadata": {},
   "outputs": [],
   "source": [
    "model=ARIMA(df_oil['Oil Investments'],order=(1,1,1)) # this order is p d q(0 or 1) \n",
    "results=model.fit()"
   ]
  },
  {
   "cell_type": "code",
   "execution_count": 43,
   "metadata": {},
   "outputs": [
    {
     "data": {
      "text/html": [
       "<table class=\"simpletable\">\n",
       "<caption>ARIMA Model Results</caption>\n",
       "<tr>\n",
       "  <th>Dep. Variable:</th> <td>D.Oil Investments</td> <th>  No. Observations:  </th>    <td>2883</td>   \n",
       "</tr>\n",
       "<tr>\n",
       "  <th>Model:</th>          <td>ARIMA(1, 1, 1)</td>   <th>  Log Likelihood     </th>  <td>6472.526</td> \n",
       "</tr>\n",
       "<tr>\n",
       "  <th>Method:</th>             <td>css-mle</td>      <th>  S.D. of innovations</th>    <td>0.026</td>  \n",
       "</tr>\n",
       "<tr>\n",
       "  <th>Date:</th>          <td>Sat, 17 Oct 2020</td>  <th>  AIC                </th> <td>-12937.052</td>\n",
       "</tr>\n",
       "<tr>\n",
       "  <th>Time:</th>              <td>18:40:14</td>      <th>  BIC                </th> <td>-12913.186</td>\n",
       "</tr>\n",
       "<tr>\n",
       "  <th>Sample:</th>           <td>01-01-2010</td>     <th>  HQIC               </th> <td>-12928.450</td>\n",
       "</tr>\n",
       "<tr>\n",
       "  <th></th>                 <td>- 12-10-2017</td>    <th>                     </th>      <td> </td>    \n",
       "</tr>\n",
       "</table>\n",
       "<table class=\"simpletable\">\n",
       "<tr>\n",
       "             <td></td>                <th>coef</th>     <th>std err</th>      <th>z</th>      <th>P>|z|</th>  <th>[0.025</th>    <th>0.975]</th>  \n",
       "</tr>\n",
       "<tr>\n",
       "  <th>const</th>                   <td> -6.77e-07</td> <td> 5.64e-07</td> <td>   -1.200</td> <td> 0.230</td> <td>-1.78e-06</td> <td> 4.29e-07</td>\n",
       "</tr>\n",
       "<tr>\n",
       "  <th>ar.L1.D.Oil Investments</th> <td>   -0.0147</td> <td>    0.019</td> <td>   -0.787</td> <td> 0.431</td> <td>   -0.051</td> <td>    0.022</td>\n",
       "</tr>\n",
       "<tr>\n",
       "  <th>ma.L1.D.Oil Investments</th> <td>   -1.0000</td> <td>    0.001</td> <td>-1103.993</td> <td> 0.000</td> <td>   -1.002</td> <td>   -0.998</td>\n",
       "</tr>\n",
       "</table>\n",
       "<table class=\"simpletable\">\n",
       "<caption>Roots</caption>\n",
       "<tr>\n",
       "    <td></td>   <th>            Real</th>  <th>         Imaginary</th> <th>         Modulus</th>  <th>        Frequency</th>\n",
       "</tr>\n",
       "<tr>\n",
       "  <th>AR.1</th> <td>         -68.1880</td> <td>          +0.0000j</td> <td>          68.1880</td> <td>           0.5000</td>\n",
       "</tr>\n",
       "<tr>\n",
       "  <th>MA.1</th> <td>           1.0000</td> <td>          +0.0000j</td> <td>           1.0000</td> <td>           0.0000</td>\n",
       "</tr>\n",
       "</table>"
      ],
      "text/plain": [
       "<class 'statsmodels.iolib.summary.Summary'>\n",
       "\"\"\"\n",
       "                             ARIMA Model Results                              \n",
       "==============================================================================\n",
       "Dep. Variable:      D.Oil Investments   No. Observations:                 2883\n",
       "Model:                 ARIMA(1, 1, 1)   Log Likelihood                6472.526\n",
       "Method:                       css-mle   S.D. of innovations              0.026\n",
       "Date:                Sat, 17 Oct 2020   AIC                         -12937.052\n",
       "Time:                        18:40:14   BIC                         -12913.186\n",
       "Sample:                    01-01-2010   HQIC                        -12928.450\n",
       "                         - 12-10-2017                                         \n",
       "===========================================================================================\n",
       "                              coef    std err          z      P>|z|      [0.025      0.975]\n",
       "-------------------------------------------------------------------------------------------\n",
       "const                    -6.77e-07   5.64e-07     -1.200      0.230   -1.78e-06    4.29e-07\n",
       "ar.L1.D.Oil Investments    -0.0147      0.019     -0.787      0.431      -0.051       0.022\n",
       "ma.L1.D.Oil Investments    -1.0000      0.001  -1103.993      0.000      -1.002      -0.998\n",
       "                                    Roots                                    \n",
       "=============================================================================\n",
       "                  Real          Imaginary           Modulus         Frequency\n",
       "-----------------------------------------------------------------------------\n",
       "AR.1          -68.1880           +0.0000j           68.1880            0.5000\n",
       "MA.1            1.0000           +0.0000j            1.0000            0.0000\n",
       "-----------------------------------------------------------------------------\n",
       "\"\"\""
      ]
     },
     "execution_count": 43,
     "metadata": {},
     "output_type": "execute_result"
    }
   ],
   "source": [
    "results.summary()"
   ]
  },
  {
   "cell_type": "code",
   "execution_count": 44,
   "metadata": {},
   "outputs": [
    {
     "data": {
      "text/plain": [
       "(array([-0.00109325, -0.00127516, -0.00127318, -0.00127389, -0.00127457,\n",
       "        -0.00127525, -0.00127592, -0.0012766 , -0.00127728, -0.00127795]),\n",
       " array([0.02559415, 0.0255969 , 0.0255969 , 0.0255969 , 0.0255969 ,\n",
       "        0.0255969 , 0.0255969 , 0.0255969 , 0.0255969 , 0.0255969 ]),\n",
       " array([[-0.05125686,  0.04907036],\n",
       "        [-0.05144416,  0.04889385],\n",
       "        [-0.05144218,  0.04889583],\n",
       "        [-0.0514429 ,  0.04889511],\n",
       "        [-0.05144357,  0.04889443],\n",
       "        [-0.05144425,  0.04889376],\n",
       "        [-0.05144493,  0.04889308],\n",
       "        [-0.0514456 ,  0.0488924 ],\n",
       "        [-0.05144628,  0.04889173],\n",
       "        [-0.05144696,  0.04889105]]))"
      ]
     },
     "execution_count": 44,
     "metadata": {},
     "output_type": "execute_result"
    }
   ],
   "source": [
    "results.forecast(10) #interpretation??"
   ]
  },
  {
   "cell_type": "markdown",
   "metadata": {},
   "source": [
    "# Testing accuracy"
   ]
  },
  {
   "cell_type": "code",
   "execution_count": 45,
   "metadata": {},
   "outputs": [
    {
     "data": {
      "text/plain": [
       "<matplotlib.axes._subplots.AxesSubplot at 0x1f577f27040>"
      ]
     },
     "execution_count": 45,
     "metadata": {},
     "output_type": "execute_result"
    },
    {
     "data": {
      "image/png": "[encoded data removed]",
      "text/plain": [
       "<Figure size 864x576 with 1 Axes>"
      ]
     },
     "metadata": {
      "needs_background": "light"
     },
     "output_type": "display_data"
    }
   ],
   "source": [
    "df_oil['forecast']=results.predict(start='2014-02-01',end='2015-12-31',dynamic=True)\n",
    "df_oil[['Oil Investments','forecast']].plot(figsize=(12,8))"
   ]
  },
  {
   "cell_type": "markdown",
   "metadata": {},
   "source": [
    "### In Above fig.The orange line is not overlapping on the blue line path,i.e model accuracy is not good."
   ]
  },
  {
   "cell_type": "code",
   "execution_count": 46,
   "metadata": {},
   "outputs": [
    {
     "data": {
      "text/plain": [
       "<matplotlib.axes._subplots.AxesSubplot at 0x1f573dd98e0>"
      ]
     },
     "execution_count": 46,
     "metadata": {},
     "output_type": "execute_result"
    },
    {
     "data": {
      "image/png": "[encoded data removed]",
      "text/plain": [
       "<Figure size 864x576 with 1 Axes>"
      ]
     },
     "metadata": {
      "needs_background": "light"
     },
     "output_type": "display_data"
    }
   ],
   "source": [
    "df_oil[['Oil Investments','forecast']]['2014-01-01':'2014-3-31'].plot(figsize=(12,8))"
   ]
  },
  {
   "cell_type": "code",
   "execution_count": 47,
   "metadata": {},
   "outputs": [
    {
     "data": {
      "text/html": [
       "<div>\n",
       "<style scoped>\n",
       "    .dataframe tbody tr th:only-of-type {\n",
       "        vertical-align: middle;\n",
       "    }\n",
       "\n",
       "    .dataframe tbody tr th {\n",
       "        vertical-align: top;\n",
       "    }\n",
       "\n",
       "    .dataframe thead th {\n",
       "        text-align: right;\n",
       "    }\n",
       "</style>\n",
       "<table border=\"1\" class=\"dataframe\">\n",
       "  <thead>\n",
       "    <tr style=\"text-align: right;\">\n",
       "      <th></th>\n",
       "      <th>Oil Investments</th>\n",
       "      <th>forecast</th>\n",
       "    </tr>\n",
       "    <tr>\n",
       "      <th>Date</th>\n",
       "      <th></th>\n",
       "      <th></th>\n",
       "    </tr>\n",
       "  </thead>\n",
       "  <tbody>\n",
       "    <tr>\n",
       "      <th>2014-01-30</th>\n",
       "      <td>0.009349</td>\n",
       "      <td>NaN</td>\n",
       "    </tr>\n",
       "    <tr>\n",
       "      <th>2014-01-31</th>\n",
       "      <td>-0.007125</td>\n",
       "      <td>NaN</td>\n",
       "    </tr>\n",
       "    <tr>\n",
       "      <th>2014-02-01</th>\n",
       "      <td>-0.030865</td>\n",
       "      <td>7.040794e-03</td>\n",
       "    </tr>\n",
       "    <tr>\n",
       "      <th>2014-02-02</th>\n",
       "      <td>0.000000</td>\n",
       "      <td>-1.039427e-04</td>\n",
       "    </tr>\n",
       "    <tr>\n",
       "      <th>2014-02-03</th>\n",
       "      <td>0.000000</td>\n",
       "      <td>8.373881e-07</td>\n",
       "    </tr>\n",
       "    <tr>\n",
       "      <th>2014-02-04</th>\n",
       "      <td>-0.000903</td>\n",
       "      <td>-6.992477e-07</td>\n",
       "    </tr>\n",
       "    <tr>\n",
       "      <th>2014-02-05</th>\n",
       "      <td>0.004012</td>\n",
       "      <td>-6.767124e-07</td>\n",
       "    </tr>\n",
       "  </tbody>\n",
       "</table>\n",
       "</div>"
      ],
      "text/plain": [
       "            Oil Investments      forecast\n",
       "Date                                     \n",
       "2014-01-30         0.009349           NaN\n",
       "2014-01-31        -0.007125           NaN\n",
       "2014-02-01        -0.030865  7.040794e-03\n",
       "2014-02-02         0.000000 -1.039427e-04\n",
       "2014-02-03         0.000000  8.373881e-07\n",
       "2014-02-04        -0.000903 -6.992477e-07\n",
       "2014-02-05         0.004012 -6.767124e-07"
      ]
     },
     "execution_count": 47,
     "metadata": {},
     "output_type": "execute_result"
    }
   ],
   "source": [
    "df_oil['2014-01-30':'2014-02-05']#2014-02-01 is the spike showing in the fig.above(2014-02-01\t-0.030865\t7.040794e-03)"
   ]
  },
  {
   "cell_type": "code",
   "execution_count": 48,
   "metadata": {},
   "outputs": [
    {
     "data": {
      "text/html": [
       "<div>\n",
       "<style scoped>\n",
       "    .dataframe tbody tr th:only-of-type {\n",
       "        vertical-align: middle;\n",
       "    }\n",
       "\n",
       "    .dataframe tbody tr th {\n",
       "        vertical-align: top;\n",
       "    }\n",
       "\n",
       "    .dataframe thead th {\n",
       "        text-align: right;\n",
       "    }\n",
       "</style>\n",
       "<table border=\"1\" class=\"dataframe\">\n",
       "  <thead>\n",
       "    <tr style=\"text-align: right;\">\n",
       "      <th></th>\n",
       "      <th>Oil Investments</th>\n",
       "      <th>forecast</th>\n",
       "    </tr>\n",
       "    <tr>\n",
       "      <th>Date</th>\n",
       "      <th></th>\n",
       "      <th></th>\n",
       "    </tr>\n",
       "  </thead>\n",
       "  <tbody>\n",
       "    <tr>\n",
       "      <th>2014-02-01</th>\n",
       "      <td>-0.030865</td>\n",
       "      <td>7.040794e-03</td>\n",
       "    </tr>\n",
       "    <tr>\n",
       "      <th>2014-02-02</th>\n",
       "      <td>0.000000</td>\n",
       "      <td>-1.039427e-04</td>\n",
       "    </tr>\n",
       "    <tr>\n",
       "      <th>2014-02-03</th>\n",
       "      <td>0.000000</td>\n",
       "      <td>8.373881e-07</td>\n",
       "    </tr>\n",
       "    <tr>\n",
       "      <th>2014-02-04</th>\n",
       "      <td>-0.000903</td>\n",
       "      <td>-6.992477e-07</td>\n",
       "    </tr>\n",
       "    <tr>\n",
       "      <th>2014-02-05</th>\n",
       "      <td>0.004012</td>\n",
       "      <td>-6.767124e-07</td>\n",
       "    </tr>\n",
       "    <tr>\n",
       "      <th>...</th>\n",
       "      <td>...</td>\n",
       "      <td>...</td>\n",
       "    </tr>\n",
       "    <tr>\n",
       "      <th>2015-12-27</th>\n",
       "      <td>0.000000</td>\n",
       "      <td>-6.770381e-07</td>\n",
       "    </tr>\n",
       "    <tr>\n",
       "      <th>2015-12-28</th>\n",
       "      <td>-0.033493</td>\n",
       "      <td>-6.770381e-07</td>\n",
       "    </tr>\n",
       "    <tr>\n",
       "      <th>2015-12-29</th>\n",
       "      <td>0.041804</td>\n",
       "      <td>-6.770381e-07</td>\n",
       "    </tr>\n",
       "    <tr>\n",
       "      <th>2015-12-30</th>\n",
       "      <td>-0.034055</td>\n",
       "      <td>-6.770381e-07</td>\n",
       "    </tr>\n",
       "    <tr>\n",
       "      <th>2015-12-31</th>\n",
       "      <td>0.014758</td>\n",
       "      <td>-6.770381e-07</td>\n",
       "    </tr>\n",
       "  </tbody>\n",
       "</table>\n",
       "<p>699 rows × 2 columns</p>\n",
       "</div>"
      ],
      "text/plain": [
       "            Oil Investments      forecast\n",
       "Date                                     \n",
       "2014-02-01        -0.030865  7.040794e-03\n",
       "2014-02-02         0.000000 -1.039427e-04\n",
       "2014-02-03         0.000000  8.373881e-07\n",
       "2014-02-04        -0.000903 -6.992477e-07\n",
       "2014-02-05         0.004012 -6.767124e-07\n",
       "...                     ...           ...\n",
       "2015-12-27         0.000000 -6.770381e-07\n",
       "2015-12-28        -0.033493 -6.770381e-07\n",
       "2015-12-29         0.041804 -6.770381e-07\n",
       "2015-12-30        -0.034055 -6.770381e-07\n",
       "2015-12-31         0.014758 -6.770381e-07\n",
       "\n",
       "[699 rows x 2 columns]"
      ]
     },
     "execution_count": 48,
     "metadata": {},
     "output_type": "execute_result"
    }
   ],
   "source": [
    "#checking predicted values\n",
    "\n",
    "#df_oil['forecast']=results.predict(start='2014-02-01',end='2015-12-31',dynamic=True)\n",
    "\n",
    "df_oil['2014-02-01':'2015-12-31']\n",
    "#start='2014-02-01',end='2015-12-31'"
   ]
  },
  {
   "cell_type": "markdown",
   "metadata": {},
   "source": [
    "# Creating future dates for predicting"
   ]
  },
  {
   "cell_type": "code",
   "execution_count": 49,
   "metadata": {},
   "outputs": [
    {
     "data": {
      "text/plain": [
       "array(['2017-11-16T00:00:00.000000000', '2017-11-17T00:00:00.000000000',\n",
       "       '2017-11-18T00:00:00.000000000', '2017-11-19T00:00:00.000000000',\n",
       "       '2017-11-20T00:00:00.000000000', '2017-11-21T00:00:00.000000000',\n",
       "       '2017-11-22T00:00:00.000000000', '2017-11-23T00:00:00.000000000',\n",
       "       '2017-11-24T00:00:00.000000000', '2017-11-25T00:00:00.000000000',\n",
       "       '2017-11-26T00:00:00.000000000', '2017-11-27T00:00:00.000000000',\n",
       "       '2017-11-28T00:00:00.000000000', '2017-11-29T00:00:00.000000000',\n",
       "       '2017-11-30T00:00:00.000000000', '2017-12-01T00:00:00.000000000',\n",
       "       '2017-12-02T00:00:00.000000000', '2017-12-03T00:00:00.000000000',\n",
       "       '2017-12-04T00:00:00.000000000', '2017-12-05T00:00:00.000000000',\n",
       "       '2017-12-06T00:00:00.000000000', '2017-12-07T00:00:00.000000000',\n",
       "       '2017-12-08T00:00:00.000000000', '2017-12-09T00:00:00.000000000',\n",
       "       '2017-12-10T00:00:00.000000000', '2017-12-11T00:00:00.000000000',\n",
       "       '2017-12-12T00:00:00.000000000', '2017-12-13T00:00:00.000000000',\n",
       "       '2017-12-14T00:00:00.000000000', '2017-12-15T00:00:00.000000000',\n",
       "       '2017-12-16T00:00:00.000000000', '2017-12-17T00:00:00.000000000',\n",
       "       '2017-12-18T00:00:00.000000000', '2017-12-19T00:00:00.000000000',\n",
       "       '2017-12-20T00:00:00.000000000', '2017-12-21T00:00:00.000000000',\n",
       "       '2017-12-22T00:00:00.000000000', '2017-12-23T00:00:00.000000000',\n",
       "       '2017-12-24T00:00:00.000000000', '2017-12-25T00:00:00.000000000',\n",
       "       '2017-12-26T00:00:00.000000000', '2017-12-27T00:00:00.000000000',\n",
       "       '2017-12-28T00:00:00.000000000', '2017-12-29T00:00:00.000000000',\n",
       "       '2017-12-30T00:00:00.000000000', '2017-12-31T00:00:00.000000000',\n",
       "       '2018-01-01T00:00:00.000000000', '2018-01-02T00:00:00.000000000',\n",
       "       '2018-01-03T00:00:00.000000000', '2018-01-04T00:00:00.000000000',\n",
       "       '2018-01-05T00:00:00.000000000', '2018-01-06T00:00:00.000000000',\n",
       "       '2018-01-07T00:00:00.000000000', '2018-01-08T00:00:00.000000000',\n",
       "       '2018-01-09T00:00:00.000000000', '2018-01-10T00:00:00.000000000',\n",
       "       '2018-01-11T00:00:00.000000000', '2018-01-12T00:00:00.000000000',\n",
       "       '2018-01-13T00:00:00.000000000', '2018-01-14T00:00:00.000000000',\n",
       "       '2018-01-15T00:00:00.000000000', '2018-01-16T00:00:00.000000000',\n",
       "       '2018-01-17T00:00:00.000000000', '2018-01-18T00:00:00.000000000',\n",
       "       '2018-01-19T00:00:00.000000000', '2018-01-20T00:00:00.000000000',\n",
       "       '2018-01-21T00:00:00.000000000', '2018-01-22T00:00:00.000000000',\n",
       "       '2018-01-23T00:00:00.000000000', '2018-01-24T00:00:00.000000000',\n",
       "       '2018-01-25T00:00:00.000000000', '2018-01-26T00:00:00.000000000',\n",
       "       '2018-01-27T00:00:00.000000000', '2018-01-28T00:00:00.000000000',\n",
       "       '2018-01-29T00:00:00.000000000', '2018-01-30T00:00:00.000000000',\n",
       "       '2018-01-31T00:00:00.000000000', '2018-02-01T00:00:00.000000000',\n",
       "       '2018-02-02T00:00:00.000000000', '2018-02-03T00:00:00.000000000',\n",
       "       '2018-02-04T00:00:00.000000000', '2018-02-05T00:00:00.000000000',\n",
       "       '2018-02-06T00:00:00.000000000', '2018-02-07T00:00:00.000000000',\n",
       "       '2018-02-08T00:00:00.000000000', '2018-02-09T00:00:00.000000000',\n",
       "       '2018-02-10T00:00:00.000000000', '2018-02-11T00:00:00.000000000',\n",
       "       '2018-02-12T00:00:00.000000000', '2018-02-13T00:00:00.000000000',\n",
       "       '2018-02-14T00:00:00.000000000', '2018-02-15T00:00:00.000000000',\n",
       "       '2018-02-16T00:00:00.000000000', '2018-02-17T00:00:00.000000000',\n",
       "       '2018-02-18T00:00:00.000000000', '2018-02-19T00:00:00.000000000',\n",
       "       '2018-02-20T00:00:00.000000000', '2018-02-21T00:00:00.000000000',\n",
       "       '2018-02-22T00:00:00.000000000', '2018-02-23T00:00:00.000000000',\n",
       "       '2018-02-24T00:00:00.000000000', '2018-02-25T00:00:00.000000000',\n",
       "       '2018-02-26T00:00:00.000000000', '2018-02-27T00:00:00.000000000',\n",
       "       '2018-02-28T00:00:00.000000000', '2018-03-01T00:00:00.000000000',\n",
       "       '2018-03-02T00:00:00.000000000', '2018-03-03T00:00:00.000000000',\n",
       "       '2018-03-04T00:00:00.000000000', '2018-03-05T00:00:00.000000000',\n",
       "       '2018-03-06T00:00:00.000000000', '2018-03-07T00:00:00.000000000',\n",
       "       '2018-03-08T00:00:00.000000000', '2018-03-09T00:00:00.000000000',\n",
       "       '2018-03-10T00:00:00.000000000', '2018-03-11T00:00:00.000000000',\n",
       "       '2018-03-12T00:00:00.000000000', '2018-03-13T00:00:00.000000000',\n",
       "       '2018-03-14T00:00:00.000000000', '2018-03-15T00:00:00.000000000',\n",
       "       '2018-03-16T00:00:00.000000000', '2018-03-17T00:00:00.000000000',\n",
       "       '2018-03-18T00:00:00.000000000', '2018-03-19T00:00:00.000000000',\n",
       "       '2018-03-20T00:00:00.000000000', '2018-03-21T00:00:00.000000000',\n",
       "       '2018-03-22T00:00:00.000000000', '2018-03-23T00:00:00.000000000',\n",
       "       '2018-03-24T00:00:00.000000000', '2018-03-25T00:00:00.000000000',\n",
       "       '2018-03-26T00:00:00.000000000', '2018-03-27T00:00:00.000000000',\n",
       "       '2018-03-28T00:00:00.000000000', '2018-03-29T00:00:00.000000000',\n",
       "       '2018-03-30T00:00:00.000000000', '2018-03-31T00:00:00.000000000',\n",
       "       '2018-04-01T00:00:00.000000000', '2018-04-02T00:00:00.000000000',\n",
       "       '2018-04-03T00:00:00.000000000', '2018-04-04T00:00:00.000000000',\n",
       "       '2018-04-05T00:00:00.000000000', '2018-04-06T00:00:00.000000000',\n",
       "       '2018-04-07T00:00:00.000000000', '2018-04-08T00:00:00.000000000',\n",
       "       '2018-04-09T00:00:00.000000000', '2018-04-10T00:00:00.000000000',\n",
       "       '2018-04-11T00:00:00.000000000', '2018-04-12T00:00:00.000000000',\n",
       "       '2018-04-13T00:00:00.000000000', '2018-04-14T00:00:00.000000000',\n",
       "       '2018-04-15T00:00:00.000000000', '2018-04-16T00:00:00.000000000',\n",
       "       '2018-04-17T00:00:00.000000000', '2018-04-18T00:00:00.000000000',\n",
       "       '2018-04-19T00:00:00.000000000', '2018-04-20T00:00:00.000000000',\n",
       "       '2018-04-21T00:00:00.000000000', '2018-04-22T00:00:00.000000000',\n",
       "       '2018-04-23T00:00:00.000000000', '2018-04-24T00:00:00.000000000',\n",
       "       '2018-04-25T00:00:00.000000000', '2018-04-26T00:00:00.000000000',\n",
       "       '2018-04-27T00:00:00.000000000', '2018-04-28T00:00:00.000000000',\n",
       "       '2018-04-29T00:00:00.000000000', '2018-04-30T00:00:00.000000000',\n",
       "       '2018-05-01T00:00:00.000000000', '2018-05-02T00:00:00.000000000',\n",
       "       '2018-05-03T00:00:00.000000000', '2018-05-04T00:00:00.000000000',\n",
       "       '2018-05-05T00:00:00.000000000', '2018-05-06T00:00:00.000000000',\n",
       "       '2018-05-07T00:00:00.000000000', '2018-05-08T00:00:00.000000000',\n",
       "       '2018-05-09T00:00:00.000000000', '2018-05-10T00:00:00.000000000',\n",
       "       '2018-05-11T00:00:00.000000000', '2018-05-12T00:00:00.000000000',\n",
       "       '2018-05-13T00:00:00.000000000', '2018-05-14T00:00:00.000000000',\n",
       "       '2018-05-15T00:00:00.000000000', '2018-05-16T00:00:00.000000000',\n",
       "       '2018-05-17T00:00:00.000000000', '2018-05-18T00:00:00.000000000',\n",
       "       '2018-05-19T00:00:00.000000000', '2018-05-20T00:00:00.000000000',\n",
       "       '2018-05-21T00:00:00.000000000', '2018-05-22T00:00:00.000000000',\n",
       "       '2018-05-23T00:00:00.000000000', '2018-05-24T00:00:00.000000000',\n",
       "       '2018-05-25T00:00:00.000000000', '2018-05-26T00:00:00.000000000',\n",
       "       '2018-05-27T00:00:00.000000000', '2018-05-28T00:00:00.000000000',\n",
       "       '2018-05-29T00:00:00.000000000', '2018-05-30T00:00:00.000000000',\n",
       "       '2018-05-31T00:00:00.000000000', '2018-06-01T00:00:00.000000000',\n",
       "       '2018-06-02T00:00:00.000000000', '2018-06-03T00:00:00.000000000',\n",
       "       '2018-06-04T00:00:00.000000000', '2018-06-05T00:00:00.000000000',\n",
       "       '2018-06-06T00:00:00.000000000', '2018-06-07T00:00:00.000000000',\n",
       "       '2018-06-08T00:00:00.000000000', '2018-06-09T00:00:00.000000000',\n",
       "       '2018-06-10T00:00:00.000000000', '2018-06-11T00:00:00.000000000',\n",
       "       '2018-06-12T00:00:00.000000000', '2018-06-13T00:00:00.000000000',\n",
       "       '2018-06-14T00:00:00.000000000', '2018-06-15T00:00:00.000000000',\n",
       "       '2018-06-16T00:00:00.000000000', '2018-06-17T00:00:00.000000000',\n",
       "       '2018-06-18T00:00:00.000000000', '2018-06-19T00:00:00.000000000',\n",
       "       '2018-06-20T00:00:00.000000000', '2018-06-21T00:00:00.000000000',\n",
       "       '2018-06-22T00:00:00.000000000', '2018-06-23T00:00:00.000000000',\n",
       "       '2018-06-24T00:00:00.000000000', '2018-06-25T00:00:00.000000000',\n",
       "       '2018-06-26T00:00:00.000000000', '2018-06-27T00:00:00.000000000',\n",
       "       '2018-06-28T00:00:00.000000000', '2018-06-29T00:00:00.000000000',\n",
       "       '2018-06-30T00:00:00.000000000', '2018-07-01T00:00:00.000000000',\n",
       "       '2018-07-02T00:00:00.000000000', '2018-07-03T00:00:00.000000000',\n",
       "       '2018-07-04T00:00:00.000000000', '2018-07-05T00:00:00.000000000',\n",
       "       '2018-07-06T00:00:00.000000000', '2018-07-07T00:00:00.000000000',\n",
       "       '2018-07-08T00:00:00.000000000', '2018-07-09T00:00:00.000000000',\n",
       "       '2018-07-10T00:00:00.000000000', '2018-07-11T00:00:00.000000000',\n",
       "       '2018-07-12T00:00:00.000000000', '2018-07-13T00:00:00.000000000',\n",
       "       '2018-07-14T00:00:00.000000000', '2018-07-15T00:00:00.000000000',\n",
       "       '2018-07-16T00:00:00.000000000', '2018-07-17T00:00:00.000000000',\n",
       "       '2018-07-18T00:00:00.000000000', '2018-07-19T00:00:00.000000000',\n",
       "       '2018-07-20T00:00:00.000000000', '2018-07-21T00:00:00.000000000',\n",
       "       '2018-07-22T00:00:00.000000000', '2018-07-23T00:00:00.000000000',\n",
       "       '2018-07-24T00:00:00.000000000', '2018-07-25T00:00:00.000000000',\n",
       "       '2018-07-26T00:00:00.000000000', '2018-07-27T00:00:00.000000000',\n",
       "       '2018-07-28T00:00:00.000000000', '2018-07-29T00:00:00.000000000',\n",
       "       '2018-07-30T00:00:00.000000000', '2018-07-31T00:00:00.000000000',\n",
       "       '2018-08-01T00:00:00.000000000', '2018-08-02T00:00:00.000000000',\n",
       "       '2018-08-03T00:00:00.000000000', '2018-08-04T00:00:00.000000000',\n",
       "       '2018-08-05T00:00:00.000000000', '2018-08-06T00:00:00.000000000',\n",
       "       '2018-08-07T00:00:00.000000000', '2018-08-08T00:00:00.000000000',\n",
       "       '2018-08-09T00:00:00.000000000', '2018-08-10T00:00:00.000000000',\n",
       "       '2018-08-11T00:00:00.000000000', '2018-08-12T00:00:00.000000000',\n",
       "       '2018-08-13T00:00:00.000000000', '2018-08-14T00:00:00.000000000',\n",
       "       '2018-08-15T00:00:00.000000000', '2018-08-16T00:00:00.000000000',\n",
       "       '2018-08-17T00:00:00.000000000', '2018-08-18T00:00:00.000000000',\n",
       "       '2018-08-19T00:00:00.000000000', '2018-08-20T00:00:00.000000000',\n",
       "       '2018-08-21T00:00:00.000000000', '2018-08-22T00:00:00.000000000',\n",
       "       '2018-08-23T00:00:00.000000000', '2018-08-24T00:00:00.000000000',\n",
       "       '2018-08-25T00:00:00.000000000', '2018-08-26T00:00:00.000000000',\n",
       "       '2018-08-27T00:00:00.000000000', '2018-08-28T00:00:00.000000000',\n",
       "       '2018-08-29T00:00:00.000000000', '2018-08-30T00:00:00.000000000',\n",
       "       '2018-08-31T00:00:00.000000000', '2018-09-01T00:00:00.000000000',\n",
       "       '2018-09-02T00:00:00.000000000', '2018-09-03T00:00:00.000000000',\n",
       "       '2018-09-04T00:00:00.000000000', '2018-09-05T00:00:00.000000000',\n",
       "       '2018-09-06T00:00:00.000000000', '2018-09-07T00:00:00.000000000',\n",
       "       '2018-09-08T00:00:00.000000000', '2018-09-09T00:00:00.000000000',\n",
       "       '2018-09-10T00:00:00.000000000', '2018-09-11T00:00:00.000000000',\n",
       "       '2018-09-12T00:00:00.000000000', '2018-09-13T00:00:00.000000000',\n",
       "       '2018-09-14T00:00:00.000000000', '2018-09-15T00:00:00.000000000',\n",
       "       '2018-09-16T00:00:00.000000000', '2018-09-17T00:00:00.000000000',\n",
       "       '2018-09-18T00:00:00.000000000', '2018-09-19T00:00:00.000000000',\n",
       "       '2018-09-20T00:00:00.000000000', '2018-09-21T00:00:00.000000000',\n",
       "       '2018-09-22T00:00:00.000000000', '2018-09-23T00:00:00.000000000',\n",
       "       '2018-09-24T00:00:00.000000000', '2018-09-25T00:00:00.000000000',\n",
       "       '2018-09-26T00:00:00.000000000', '2018-09-27T00:00:00.000000000',\n",
       "       '2018-09-28T00:00:00.000000000', '2018-09-29T00:00:00.000000000',\n",
       "       '2018-09-30T00:00:00.000000000', '2018-10-01T00:00:00.000000000',\n",
       "       '2018-10-02T00:00:00.000000000', '2018-10-03T00:00:00.000000000',\n",
       "       '2018-10-04T00:00:00.000000000', '2018-10-05T00:00:00.000000000',\n",
       "       '2018-10-06T00:00:00.000000000', '2018-10-07T00:00:00.000000000',\n",
       "       '2018-10-08T00:00:00.000000000', '2018-10-09T00:00:00.000000000',\n",
       "       '2018-10-10T00:00:00.000000000', '2018-10-11T00:00:00.000000000',\n",
       "       '2018-10-12T00:00:00.000000000', '2018-10-13T00:00:00.000000000',\n",
       "       '2018-10-14T00:00:00.000000000', '2018-10-15T00:00:00.000000000',\n",
       "       '2018-10-16T00:00:00.000000000', '2018-10-17T00:00:00.000000000',\n",
       "       '2018-10-18T00:00:00.000000000', '2018-10-19T00:00:00.000000000',\n",
       "       '2018-10-20T00:00:00.000000000', '2018-10-21T00:00:00.000000000',\n",
       "       '2018-10-22T00:00:00.000000000', '2018-10-23T00:00:00.000000000',\n",
       "       '2018-10-24T00:00:00.000000000', '2018-10-25T00:00:00.000000000',\n",
       "       '2018-10-26T00:00:00.000000000', '2018-10-27T00:00:00.000000000',\n",
       "       '2018-10-28T00:00:00.000000000', '2018-10-29T00:00:00.000000000',\n",
       "       '2018-10-30T00:00:00.000000000', '2018-10-31T00:00:00.000000000',\n",
       "       '2018-11-01T00:00:00.000000000', '2018-11-02T00:00:00.000000000',\n",
       "       '2018-11-03T00:00:00.000000000', '2018-11-04T00:00:00.000000000',\n",
       "       '2018-11-05T00:00:00.000000000', '2018-11-06T00:00:00.000000000',\n",
       "       '2018-11-07T00:00:00.000000000', '2018-11-08T00:00:00.000000000',\n",
       "       '2018-11-09T00:00:00.000000000', '2018-11-10T00:00:00.000000000',\n",
       "       '2018-11-11T00:00:00.000000000', '2018-11-12T00:00:00.000000000',\n",
       "       '2018-11-13T00:00:00.000000000', '2018-11-14T00:00:00.000000000',\n",
       "       '2018-11-15T00:00:00.000000000', '2018-11-16T00:00:00.000000000',\n",
       "       '2018-11-17T00:00:00.000000000', '2018-11-18T00:00:00.000000000',\n",
       "       '2018-11-19T00:00:00.000000000', '2018-11-20T00:00:00.000000000',\n",
       "       '2018-11-21T00:00:00.000000000', '2018-11-22T00:00:00.000000000',\n",
       "       '2018-11-23T00:00:00.000000000', '2018-11-24T00:00:00.000000000',\n",
       "       '2018-11-25T00:00:00.000000000', '2018-11-26T00:00:00.000000000',\n",
       "       '2018-11-27T00:00:00.000000000', '2018-11-28T00:00:00.000000000',\n",
       "       '2018-11-29T00:00:00.000000000', '2018-11-30T00:00:00.000000000',\n",
       "       '2018-12-01T00:00:00.000000000', '2018-12-02T00:00:00.000000000',\n",
       "       '2018-12-03T00:00:00.000000000', '2018-12-04T00:00:00.000000000',\n",
       "       '2018-12-05T00:00:00.000000000', '2018-12-06T00:00:00.000000000',\n",
       "       '2018-12-07T00:00:00.000000000', '2018-12-08T00:00:00.000000000',\n",
       "       '2018-12-09T00:00:00.000000000', '2018-12-10T00:00:00.000000000',\n",
       "       '2018-12-11T00:00:00.000000000', '2018-12-12T00:00:00.000000000',\n",
       "       '2018-12-13T00:00:00.000000000', '2018-12-14T00:00:00.000000000',\n",
       "       '2018-12-15T00:00:00.000000000', '2018-12-16T00:00:00.000000000',\n",
       "       '2018-12-17T00:00:00.000000000', '2018-12-18T00:00:00.000000000',\n",
       "       '2018-12-19T00:00:00.000000000', '2018-12-20T00:00:00.000000000',\n",
       "       '2018-12-21T00:00:00.000000000', '2018-12-22T00:00:00.000000000',\n",
       "       '2018-12-23T00:00:00.000000000', '2018-12-24T00:00:00.000000000',\n",
       "       '2018-12-25T00:00:00.000000000', '2018-12-26T00:00:00.000000000',\n",
       "       '2018-12-27T00:00:00.000000000', '2018-12-28T00:00:00.000000000',\n",
       "       '2018-12-29T00:00:00.000000000', '2018-12-30T00:00:00.000000000',\n",
       "       '2018-12-31T00:00:00.000000000', '2019-01-01T00:00:00.000000000',\n",
       "       '2019-01-02T00:00:00.000000000', '2019-01-03T00:00:00.000000000',\n",
       "       '2019-01-04T00:00:00.000000000', '2019-01-05T00:00:00.000000000',\n",
       "       '2019-01-06T00:00:00.000000000', '2019-01-07T00:00:00.000000000',\n",
       "       '2019-01-08T00:00:00.000000000', '2019-01-09T00:00:00.000000000',\n",
       "       '2019-01-10T00:00:00.000000000', '2019-01-11T00:00:00.000000000',\n",
       "       '2019-01-12T00:00:00.000000000', '2019-01-13T00:00:00.000000000',\n",
       "       '2019-01-14T00:00:00.000000000', '2019-01-15T00:00:00.000000000',\n",
       "       '2019-01-16T00:00:00.000000000', '2019-01-17T00:00:00.000000000',\n",
       "       '2019-01-18T00:00:00.000000000', '2019-01-19T00:00:00.000000000',\n",
       "       '2019-01-20T00:00:00.000000000', '2019-01-21T00:00:00.000000000',\n",
       "       '2019-01-22T00:00:00.000000000', '2019-01-23T00:00:00.000000000',\n",
       "       '2019-01-24T00:00:00.000000000', '2019-01-25T00:00:00.000000000',\n",
       "       '2019-01-26T00:00:00.000000000', '2019-01-27T00:00:00.000000000',\n",
       "       '2019-01-28T00:00:00.000000000', '2019-01-29T00:00:00.000000000',\n",
       "       '2019-01-30T00:00:00.000000000', '2019-01-31T00:00:00.000000000',\n",
       "       '2019-02-01T00:00:00.000000000', '2019-02-02T00:00:00.000000000',\n",
       "       '2019-02-03T00:00:00.000000000', '2019-02-04T00:00:00.000000000',\n",
       "       '2019-02-05T00:00:00.000000000', '2019-02-06T00:00:00.000000000',\n",
       "       '2019-02-07T00:00:00.000000000', '2019-02-08T00:00:00.000000000',\n",
       "       '2019-02-09T00:00:00.000000000', '2019-02-10T00:00:00.000000000',\n",
       "       '2019-02-11T00:00:00.000000000', '2019-02-12T00:00:00.000000000',\n",
       "       '2019-02-13T00:00:00.000000000', '2019-02-14T00:00:00.000000000',\n",
       "       '2019-02-15T00:00:00.000000000', '2019-02-16T00:00:00.000000000',\n",
       "       '2019-02-17T00:00:00.000000000', '2019-02-18T00:00:00.000000000',\n",
       "       '2019-02-19T00:00:00.000000000', '2019-02-20T00:00:00.000000000',\n",
       "       '2019-02-21T00:00:00.000000000', '2019-02-22T00:00:00.000000000',\n",
       "       '2019-02-23T00:00:00.000000000', '2019-02-24T00:00:00.000000000',\n",
       "       '2019-02-25T00:00:00.000000000', '2019-02-26T00:00:00.000000000',\n",
       "       '2019-02-27T00:00:00.000000000', '2019-02-28T00:00:00.000000000',\n",
       "       '2019-03-01T00:00:00.000000000', '2019-03-02T00:00:00.000000000',\n",
       "       '2019-03-03T00:00:00.000000000', '2019-03-04T00:00:00.000000000',\n",
       "       '2019-03-05T00:00:00.000000000', '2019-03-06T00:00:00.000000000',\n",
       "       '2019-03-07T00:00:00.000000000', '2019-03-08T00:00:00.000000000',\n",
       "       '2019-03-09T00:00:00.000000000', '2019-03-10T00:00:00.000000000',\n",
       "       '2019-03-11T00:00:00.000000000', '2019-03-12T00:00:00.000000000',\n",
       "       '2019-03-13T00:00:00.000000000', '2019-03-14T00:00:00.000000000',\n",
       "       '2019-03-15T00:00:00.000000000', '2019-03-16T00:00:00.000000000',\n",
       "       '2019-03-17T00:00:00.000000000', '2019-03-18T00:00:00.000000000',\n",
       "       '2019-03-19T00:00:00.000000000', '2019-03-20T00:00:00.000000000',\n",
       "       '2019-03-21T00:00:00.000000000', '2019-03-22T00:00:00.000000000',\n",
       "       '2019-03-23T00:00:00.000000000', '2019-03-24T00:00:00.000000000',\n",
       "       '2019-03-25T00:00:00.000000000', '2019-03-26T00:00:00.000000000',\n",
       "       '2019-03-27T00:00:00.000000000', '2019-03-28T00:00:00.000000000',\n",
       "       '2019-03-29T00:00:00.000000000', '2019-03-30T00:00:00.000000000',\n",
       "       '2019-03-31T00:00:00.000000000', '2019-04-01T00:00:00.000000000',\n",
       "       '2019-04-02T00:00:00.000000000', '2019-04-03T00:00:00.000000000',\n",
       "       '2019-04-04T00:00:00.000000000', '2019-04-05T00:00:00.000000000',\n",
       "       '2019-04-06T00:00:00.000000000', '2019-04-07T00:00:00.000000000',\n",
       "       '2019-04-08T00:00:00.000000000', '2019-04-09T00:00:00.000000000',\n",
       "       '2019-04-10T00:00:00.000000000', '2019-04-11T00:00:00.000000000',\n",
       "       '2019-04-12T00:00:00.000000000', '2019-04-13T00:00:00.000000000',\n",
       "       '2019-04-14T00:00:00.000000000', '2019-04-15T00:00:00.000000000',\n",
       "       '2019-04-16T00:00:00.000000000', '2019-04-17T00:00:00.000000000',\n",
       "       '2019-04-18T00:00:00.000000000', '2019-04-19T00:00:00.000000000',\n",
       "       '2019-04-20T00:00:00.000000000', '2019-04-21T00:00:00.000000000',\n",
       "       '2019-04-22T00:00:00.000000000', '2019-04-23T00:00:00.000000000',\n",
       "       '2019-04-24T00:00:00.000000000', '2019-04-25T00:00:00.000000000',\n",
       "       '2019-04-26T00:00:00.000000000', '2019-04-27T00:00:00.000000000',\n",
       "       '2019-04-28T00:00:00.000000000', '2019-04-29T00:00:00.000000000',\n",
       "       '2019-04-30T00:00:00.000000000', '2019-05-01T00:00:00.000000000',\n",
       "       '2019-05-02T00:00:00.000000000', '2019-05-03T00:00:00.000000000',\n",
       "       '2019-05-04T00:00:00.000000000', '2019-05-05T00:00:00.000000000',\n",
       "       '2019-05-06T00:00:00.000000000', '2019-05-07T00:00:00.000000000',\n",
       "       '2019-05-08T00:00:00.000000000', '2019-05-09T00:00:00.000000000',\n",
       "       '2019-05-10T00:00:00.000000000', '2019-05-11T00:00:00.000000000',\n",
       "       '2019-05-12T00:00:00.000000000', '2019-05-13T00:00:00.000000000',\n",
       "       '2019-05-14T00:00:00.000000000', '2019-05-15T00:00:00.000000000',\n",
       "       '2019-05-16T00:00:00.000000000', '2019-05-17T00:00:00.000000000',\n",
       "       '2019-05-18T00:00:00.000000000', '2019-05-19T00:00:00.000000000',\n",
       "       '2019-05-20T00:00:00.000000000', '2019-05-21T00:00:00.000000000',\n",
       "       '2019-05-22T00:00:00.000000000', '2019-05-23T00:00:00.000000000',\n",
       "       '2019-05-24T00:00:00.000000000', '2019-05-25T00:00:00.000000000',\n",
       "       '2019-05-26T00:00:00.000000000', '2019-05-27T00:00:00.000000000',\n",
       "       '2019-05-28T00:00:00.000000000', '2019-05-29T00:00:00.000000000',\n",
       "       '2019-05-30T00:00:00.000000000', '2019-05-31T00:00:00.000000000',\n",
       "       '2019-06-01T00:00:00.000000000', '2019-06-02T00:00:00.000000000',\n",
       "       '2019-06-03T00:00:00.000000000', '2019-06-04T00:00:00.000000000',\n",
       "       '2019-06-05T00:00:00.000000000', '2019-06-06T00:00:00.000000000',\n",
       "       '2019-06-07T00:00:00.000000000', '2019-06-08T00:00:00.000000000',\n",
       "       '2019-06-09T00:00:00.000000000', '2019-06-10T00:00:00.000000000',\n",
       "       '2019-06-11T00:00:00.000000000', '2019-06-12T00:00:00.000000000',\n",
       "       '2019-06-13T00:00:00.000000000', '2019-06-14T00:00:00.000000000',\n",
       "       '2019-06-15T00:00:00.000000000', '2019-06-16T00:00:00.000000000',\n",
       "       '2019-06-17T00:00:00.000000000', '2019-06-18T00:00:00.000000000',\n",
       "       '2019-06-19T00:00:00.000000000', '2019-06-20T00:00:00.000000000',\n",
       "       '2019-06-21T00:00:00.000000000', '2019-06-22T00:00:00.000000000',\n",
       "       '2019-06-23T00:00:00.000000000', '2019-06-24T00:00:00.000000000',\n",
       "       '2019-06-25T00:00:00.000000000', '2019-06-26T00:00:00.000000000',\n",
       "       '2019-06-27T00:00:00.000000000', '2019-06-28T00:00:00.000000000',\n",
       "       '2019-06-29T00:00:00.000000000', '2019-06-30T00:00:00.000000000',\n",
       "       '2019-07-01T00:00:00.000000000', '2019-07-02T00:00:00.000000000',\n",
       "       '2019-07-03T00:00:00.000000000', '2019-07-04T00:00:00.000000000',\n",
       "       '2019-07-05T00:00:00.000000000', '2019-07-06T00:00:00.000000000',\n",
       "       '2019-07-07T00:00:00.000000000', '2019-07-08T00:00:00.000000000',\n",
       "       '2019-07-09T00:00:00.000000000', '2019-07-10T00:00:00.000000000',\n",
       "       '2019-07-11T00:00:00.000000000', '2019-07-12T00:00:00.000000000',\n",
       "       '2019-07-13T00:00:00.000000000', '2019-07-14T00:00:00.000000000',\n",
       "       '2019-07-15T00:00:00.000000000', '2019-07-16T00:00:00.000000000',\n",
       "       '2019-07-17T00:00:00.000000000', '2019-07-18T00:00:00.000000000',\n",
       "       '2019-07-19T00:00:00.000000000', '2019-07-20T00:00:00.000000000',\n",
       "       '2019-07-21T00:00:00.000000000', '2019-07-22T00:00:00.000000000',\n",
       "       '2019-07-23T00:00:00.000000000', '2019-07-24T00:00:00.000000000',\n",
       "       '2019-07-25T00:00:00.000000000', '2019-07-26T00:00:00.000000000',\n",
       "       '2019-07-27T00:00:00.000000000', '2019-07-28T00:00:00.000000000',\n",
       "       '2019-07-29T00:00:00.000000000', '2019-07-30T00:00:00.000000000',\n",
       "       '2019-07-31T00:00:00.000000000', '2019-08-01T00:00:00.000000000',\n",
       "       '2019-08-02T00:00:00.000000000', '2019-08-03T00:00:00.000000000',\n",
       "       '2019-08-04T00:00:00.000000000', '2019-08-05T00:00:00.000000000',\n",
       "       '2019-08-06T00:00:00.000000000', '2019-08-07T00:00:00.000000000',\n",
       "       '2019-08-08T00:00:00.000000000', '2019-08-09T00:00:00.000000000',\n",
       "       '2019-08-10T00:00:00.000000000', '2019-08-11T00:00:00.000000000',\n",
       "       '2019-08-12T00:00:00.000000000', '2019-08-13T00:00:00.000000000',\n",
       "       '2019-08-14T00:00:00.000000000', '2019-08-15T00:00:00.000000000',\n",
       "       '2019-08-16T00:00:00.000000000', '2019-08-17T00:00:00.000000000',\n",
       "       '2019-08-18T00:00:00.000000000', '2019-08-19T00:00:00.000000000',\n",
       "       '2019-08-20T00:00:00.000000000', '2019-08-21T00:00:00.000000000',\n",
       "       '2019-08-22T00:00:00.000000000', '2019-08-23T00:00:00.000000000',\n",
       "       '2019-08-24T00:00:00.000000000', '2019-08-25T00:00:00.000000000',\n",
       "       '2019-08-26T00:00:00.000000000', '2019-08-27T00:00:00.000000000',\n",
       "       '2019-08-28T00:00:00.000000000', '2019-08-29T00:00:00.000000000',\n",
       "       '2019-08-30T00:00:00.000000000', '2019-08-31T00:00:00.000000000',\n",
       "       '2019-09-01T00:00:00.000000000', '2019-09-02T00:00:00.000000000',\n",
       "       '2019-09-03T00:00:00.000000000', '2019-09-04T00:00:00.000000000',\n",
       "       '2019-09-05T00:00:00.000000000', '2019-09-06T00:00:00.000000000',\n",
       "       '2019-09-07T00:00:00.000000000', '2019-09-08T00:00:00.000000000',\n",
       "       '2019-09-09T00:00:00.000000000', '2019-09-10T00:00:00.000000000',\n",
       "       '2019-09-11T00:00:00.000000000', '2019-09-12T00:00:00.000000000',\n",
       "       '2019-09-13T00:00:00.000000000', '2019-09-14T00:00:00.000000000',\n",
       "       '2019-09-15T00:00:00.000000000', '2019-09-16T00:00:00.000000000',\n",
       "       '2019-09-17T00:00:00.000000000', '2019-09-18T00:00:00.000000000',\n",
       "       '2019-09-19T00:00:00.000000000', '2019-09-20T00:00:00.000000000',\n",
       "       '2019-09-21T00:00:00.000000000', '2019-09-22T00:00:00.000000000',\n",
       "       '2019-09-23T00:00:00.000000000', '2019-09-24T00:00:00.000000000',\n",
       "       '2019-09-25T00:00:00.000000000', '2019-09-26T00:00:00.000000000',\n",
       "       '2019-09-27T00:00:00.000000000', '2019-09-28T00:00:00.000000000',\n",
       "       '2019-09-29T00:00:00.000000000', '2019-09-30T00:00:00.000000000',\n",
       "       '2019-10-01T00:00:00.000000000', '2019-10-02T00:00:00.000000000',\n",
       "       '2019-10-03T00:00:00.000000000', '2019-10-04T00:00:00.000000000',\n",
       "       '2019-10-05T00:00:00.000000000', '2019-10-06T00:00:00.000000000',\n",
       "       '2019-10-07T00:00:00.000000000', '2019-10-08T00:00:00.000000000',\n",
       "       '2019-10-09T00:00:00.000000000', '2019-10-10T00:00:00.000000000',\n",
       "       '2019-10-11T00:00:00.000000000', '2019-10-12T00:00:00.000000000',\n",
       "       '2019-10-13T00:00:00.000000000', '2019-10-14T00:00:00.000000000',\n",
       "       '2019-10-15T00:00:00.000000000', '2019-10-16T00:00:00.000000000',\n",
       "       '2019-10-17T00:00:00.000000000', '2019-10-18T00:00:00.000000000',\n",
       "       '2019-10-19T00:00:00.000000000', '2019-10-20T00:00:00.000000000',\n",
       "       '2019-10-21T00:00:00.000000000', '2019-10-22T00:00:00.000000000',\n",
       "       '2019-10-23T00:00:00.000000000', '2019-10-24T00:00:00.000000000',\n",
       "       '2019-10-25T00:00:00.000000000', '2019-10-26T00:00:00.000000000',\n",
       "       '2019-10-27T00:00:00.000000000', '2019-10-28T00:00:00.000000000',\n",
       "       '2019-10-29T00:00:00.000000000', '2019-10-30T00:00:00.000000000',\n",
       "       '2019-10-31T00:00:00.000000000', '2019-11-01T00:00:00.000000000',\n",
       "       '2019-11-02T00:00:00.000000000', '2019-11-03T00:00:00.000000000',\n",
       "       '2019-11-04T00:00:00.000000000', '2019-11-05T00:00:00.000000000',\n",
       "       '2019-11-06T00:00:00.000000000', '2019-11-07T00:00:00.000000000',\n",
       "       '2019-11-08T00:00:00.000000000', '2019-11-09T00:00:00.000000000',\n",
       "       '2019-11-10T00:00:00.000000000', '2019-11-11T00:00:00.000000000',\n",
       "       '2019-11-12T00:00:00.000000000', '2019-11-13T00:00:00.000000000',\n",
       "       '2019-11-14T00:00:00.000000000', '2019-11-15T00:00:00.000000000'],\n",
       "      dtype='datetime64[ns]')"
      ]
     },
     "execution_count": 49,
     "metadata": {},
     "output_type": "execute_result"
    }
   ],
   "source": [
    "idx = np.array(pd.date_range(start='2017-11-16',end='2019-11-15',freq='D'))\n",
    "idx"
   ]
  },
  {
   "cell_type": "code",
   "execution_count": 50,
   "metadata": {},
   "outputs": [
    {
     "data": {
      "text/html": [
       "<div>\n",
       "<style scoped>\n",
       "    .dataframe tbody tr th:only-of-type {\n",
       "        vertical-align: middle;\n",
       "    }\n",
       "\n",
       "    .dataframe tbody tr th {\n",
       "        vertical-align: top;\n",
       "    }\n",
       "\n",
       "    .dataframe thead th {\n",
       "        text-align: right;\n",
       "    }\n",
       "</style>\n",
       "<table border=\"1\" class=\"dataframe\">\n",
       "  <thead>\n",
       "    <tr style=\"text-align: right;\">\n",
       "      <th></th>\n",
       "      <th>Date</th>\n",
       "    </tr>\n",
       "  </thead>\n",
       "  <tbody>\n",
       "    <tr>\n",
       "      <th>0</th>\n",
       "      <td>2017-11-16</td>\n",
       "    </tr>\n",
       "    <tr>\n",
       "      <th>1</th>\n",
       "      <td>2017-11-17</td>\n",
       "    </tr>\n",
       "    <tr>\n",
       "      <th>2</th>\n",
       "      <td>2017-11-18</td>\n",
       "    </tr>\n",
       "    <tr>\n",
       "      <th>3</th>\n",
       "      <td>2017-11-19</td>\n",
       "    </tr>\n",
       "    <tr>\n",
       "      <th>4</th>\n",
       "      <td>2017-11-20</td>\n",
       "    </tr>\n",
       "  </tbody>\n",
       "</table>\n",
       "</div>"
      ],
      "text/plain": [
       "        Date\n",
       "0 2017-11-16\n",
       "1 2017-11-17\n",
       "2 2017-11-18\n",
       "3 2017-11-19\n",
       "4 2017-11-20"
      ]
     },
     "execution_count": 50,
     "metadata": {},
     "output_type": "execute_result"
    }
   ],
   "source": [
    "df_future_dataset=pd.DataFrame({'Date':idx})\n",
    "df_future_dataset.head()"
   ]
  },
  {
   "cell_type": "code",
   "execution_count": 51,
   "metadata": {},
   "outputs": [
    {
     "data": {
      "text/html": [
       "<div>\n",
       "<style scoped>\n",
       "    .dataframe tbody tr th:only-of-type {\n",
       "        vertical-align: middle;\n",
       "    }\n",
       "\n",
       "    .dataframe tbody tr th {\n",
       "        vertical-align: top;\n",
       "    }\n",
       "\n",
       "    .dataframe thead th {\n",
       "        text-align: right;\n",
       "    }\n",
       "</style>\n",
       "<table border=\"1\" class=\"dataframe\">\n",
       "  <thead>\n",
       "    <tr style=\"text-align: right;\">\n",
       "      <th></th>\n",
       "      <th>Date</th>\n",
       "    </tr>\n",
       "  </thead>\n",
       "  <tbody>\n",
       "    <tr>\n",
       "      <th>725</th>\n",
       "      <td>2019-11-11</td>\n",
       "    </tr>\n",
       "    <tr>\n",
       "      <th>726</th>\n",
       "      <td>2019-11-12</td>\n",
       "    </tr>\n",
       "    <tr>\n",
       "      <th>727</th>\n",
       "      <td>2019-11-13</td>\n",
       "    </tr>\n",
       "    <tr>\n",
       "      <th>728</th>\n",
       "      <td>2019-11-14</td>\n",
       "    </tr>\n",
       "    <tr>\n",
       "      <th>729</th>\n",
       "      <td>2019-11-15</td>\n",
       "    </tr>\n",
       "  </tbody>\n",
       "</table>\n",
       "</div>"
      ],
      "text/plain": [
       "          Date\n",
       "725 2019-11-11\n",
       "726 2019-11-12\n",
       "727 2019-11-13\n",
       "728 2019-11-14\n",
       "729 2019-11-15"
      ]
     },
     "execution_count": 51,
     "metadata": {},
     "output_type": "execute_result"
    }
   ],
   "source": [
    "df_future_dataset.tail()"
   ]
  },
  {
   "cell_type": "code",
   "execution_count": 52,
   "metadata": {},
   "outputs": [
    {
     "data": {
      "text/plain": [
       "dtype('<M8[ns]')"
      ]
     },
     "execution_count": 52,
     "metadata": {},
     "output_type": "execute_result"
    }
   ],
   "source": [
    "df_future_dataset['Date'].dtypes"
   ]
  },
  {
   "cell_type": "code",
   "execution_count": 53,
   "metadata": {},
   "outputs": [],
   "source": [
    "df_future_dataset.set_index('Date',inplace=True)"
   ]
  },
  {
   "cell_type": "code",
   "execution_count": 54,
   "metadata": {},
   "outputs": [],
   "source": [
    "df_future_dataset.index = pd.DatetimeIndex(df_future_dataset.index).to_period('D')"
   ]
  },
  {
   "cell_type": "code",
   "execution_count": 56,
   "metadata": {},
   "outputs": [
    {
     "data": {
      "text/html": [
       "<div>\n",
       "<style scoped>\n",
       "    .dataframe tbody tr th:only-of-type {\n",
       "        vertical-align: middle;\n",
       "    }\n",
       "\n",
       "    .dataframe tbody tr th {\n",
       "        vertical-align: top;\n",
       "    }\n",
       "\n",
       "    .dataframe thead th {\n",
       "        text-align: right;\n",
       "    }\n",
       "</style>\n",
       "<table border=\"1\" class=\"dataframe\">\n",
       "  <thead>\n",
       "    <tr style=\"text-align: right;\">\n",
       "      <th></th>\n",
       "    </tr>\n",
       "    <tr>\n",
       "      <th>Date</th>\n",
       "    </tr>\n",
       "  </thead>\n",
       "  <tbody>\n",
       "    <tr>\n",
       "      <th>2019-11-11</th>\n",
       "    </tr>\n",
       "    <tr>\n",
       "      <th>2019-11-12</th>\n",
       "    </tr>\n",
       "    <tr>\n",
       "      <th>2019-11-13</th>\n",
       "    </tr>\n",
       "    <tr>\n",
       "      <th>2019-11-14</th>\n",
       "    </tr>\n",
       "    <tr>\n",
       "      <th>2019-11-15</th>\n",
       "    </tr>\n",
       "  </tbody>\n",
       "</table>\n",
       "</div>"
      ],
      "text/plain": [
       "Empty DataFrame\n",
       "Columns: []\n",
       "Index: [2019-11-11, 2019-11-12, 2019-11-13, 2019-11-14, 2019-11-15]"
      ]
     },
     "execution_count": 56,
     "metadata": {},
     "output_type": "execute_result"
    }
   ],
   "source": [
    "df_future_dataset.tail()"
   ]
  },
  {
   "cell_type": "code",
   "execution_count": 58,
   "metadata": {},
   "outputs": [],
   "source": [
    "future_df=pd.concat([df_oil,df_future_dataset])"
   ]
  },
  {
   "cell_type": "code",
   "execution_count": 59,
   "metadata": {},
   "outputs": [
    {
     "data": {
      "text/html": [
       "<div>\n",
       "<style scoped>\n",
       "    .dataframe tbody tr th:only-of-type {\n",
       "        vertical-align: middle;\n",
       "    }\n",
       "\n",
       "    .dataframe tbody tr th {\n",
       "        vertical-align: top;\n",
       "    }\n",
       "\n",
       "    .dataframe thead th {\n",
       "        text-align: right;\n",
       "    }\n",
       "</style>\n",
       "<table border=\"1\" class=\"dataframe\">\n",
       "  <thead>\n",
       "    <tr style=\"text-align: right;\">\n",
       "      <th></th>\n",
       "      <th>Oil Investments</th>\n",
       "      <th>forecast</th>\n",
       "    </tr>\n",
       "    <tr>\n",
       "      <th>Date</th>\n",
       "      <th></th>\n",
       "      <th></th>\n",
       "    </tr>\n",
       "  </thead>\n",
       "  <tbody>\n",
       "    <tr>\n",
       "      <th>2009-12-31</th>\n",
       "      <td>0.025417</td>\n",
       "      <td>NaN</td>\n",
       "    </tr>\n",
       "    <tr>\n",
       "      <th>2010-01-01</th>\n",
       "      <td>0.000000</td>\n",
       "      <td>NaN</td>\n",
       "    </tr>\n",
       "    <tr>\n",
       "      <th>2010-01-02</th>\n",
       "      <td>0.021414</td>\n",
       "      <td>NaN</td>\n",
       "    </tr>\n",
       "    <tr>\n",
       "      <th>2010-01-03</th>\n",
       "      <td>-0.012669</td>\n",
       "      <td>NaN</td>\n",
       "    </tr>\n",
       "    <tr>\n",
       "      <th>2010-01-04</th>\n",
       "      <td>0.012942</td>\n",
       "      <td>NaN</td>\n",
       "    </tr>\n",
       "  </tbody>\n",
       "</table>\n",
       "</div>"
      ],
      "text/plain": [
       "            Oil Investments  forecast\n",
       "Date                                 \n",
       "2009-12-31         0.025417       NaN\n",
       "2010-01-01         0.000000       NaN\n",
       "2010-01-02         0.021414       NaN\n",
       "2010-01-03        -0.012669       NaN\n",
       "2010-01-04         0.012942       NaN"
      ]
     },
     "execution_count": 59,
     "metadata": {},
     "output_type": "execute_result"
    }
   ],
   "source": [
    "future_df.head()"
   ]
  },
  {
   "cell_type": "code",
   "execution_count": 60,
   "metadata": {},
   "outputs": [
    {
     "data": {
      "text/html": [
       "<div>\n",
       "<style scoped>\n",
       "    .dataframe tbody tr th:only-of-type {\n",
       "        vertical-align: middle;\n",
       "    }\n",
       "\n",
       "    .dataframe tbody tr th {\n",
       "        vertical-align: top;\n",
       "    }\n",
       "\n",
       "    .dataframe thead th {\n",
       "        text-align: right;\n",
       "    }\n",
       "</style>\n",
       "<table border=\"1\" class=\"dataframe\">\n",
       "  <thead>\n",
       "    <tr style=\"text-align: right;\">\n",
       "      <th></th>\n",
       "      <th>Oil Investments</th>\n",
       "      <th>forecast</th>\n",
       "    </tr>\n",
       "    <tr>\n",
       "      <th>Date</th>\n",
       "      <th></th>\n",
       "      <th></th>\n",
       "    </tr>\n",
       "  </thead>\n",
       "  <tbody>\n",
       "    <tr>\n",
       "      <th>2019-11-11</th>\n",
       "      <td>NaN</td>\n",
       "      <td>NaN</td>\n",
       "    </tr>\n",
       "    <tr>\n",
       "      <th>2019-11-12</th>\n",
       "      <td>NaN</td>\n",
       "      <td>NaN</td>\n",
       "    </tr>\n",
       "    <tr>\n",
       "      <th>2019-11-13</th>\n",
       "      <td>NaN</td>\n",
       "      <td>NaN</td>\n",
       "    </tr>\n",
       "    <tr>\n",
       "      <th>2019-11-14</th>\n",
       "      <td>NaN</td>\n",
       "      <td>NaN</td>\n",
       "    </tr>\n",
       "    <tr>\n",
       "      <th>2019-11-15</th>\n",
       "      <td>NaN</td>\n",
       "      <td>NaN</td>\n",
       "    </tr>\n",
       "  </tbody>\n",
       "</table>\n",
       "</div>"
      ],
      "text/plain": [
       "            Oil Investments  forecast\n",
       "Date                                 \n",
       "2019-11-11              NaN       NaN\n",
       "2019-11-12              NaN       NaN\n",
       "2019-11-13              NaN       NaN\n",
       "2019-11-14              NaN       NaN\n",
       "2019-11-15              NaN       NaN"
      ]
     },
     "execution_count": 60,
     "metadata": {},
     "output_type": "execute_result"
    }
   ],
   "source": [
    "future_df.tail()"
   ]
  },
  {
   "cell_type": "code",
   "execution_count": 61,
   "metadata": {},
   "outputs": [
    {
     "data": {
      "text/plain": [
       "<matplotlib.axes._subplots.AxesSubplot at 0x1f57951a280>"
      ]
     },
     "execution_count": 61,
     "metadata": {},
     "output_type": "execute_result"
    },
    {
     "data": {
      "image/png": "[encoded data removed]",
      "text/plain": [
       "<Figure size 864x576 with 1 Axes>"
      ]
     },
     "metadata": {
      "needs_background": "light"
     },
     "output_type": "display_data"
    }
   ],
   "source": [
    "future_df['forecast']=results.predict(start='2017-11-15',end='2019-11-15',dynamic=True)\n",
    "future_df[['Oil Investments','forecast']].plot(figsize=(12,8))"
   ]
  },
  {
   "cell_type": "code",
   "execution_count": 62,
   "metadata": {},
   "outputs": [
    {
     "data": {
      "text/plain": [
       "<matplotlib.axes._subplots.AxesSubplot at 0x1f5797245b0>"
      ]
     },
     "execution_count": 62,
     "metadata": {},
     "output_type": "execute_result"
    },
    {
     "data": {
      "image/png": "[encoded data removed]",
      "text/plain": [
       "<Figure size 864x576 with 1 Axes>"
      ]
     },
     "metadata": {
      "needs_background": "light"
     },
     "output_type": "display_data"
    }
   ],
   "source": [
    "future_df[['Oil Investments','forecast']]['2017-10-15' : '2018-10-15 '].plot(figsize=(12,8))"
   ]
  },
  {
   "cell_type": "code",
   "execution_count": 70,
   "metadata": {},
   "outputs": [
    {
     "data": {
      "text/html": [
       "<div>\n",
       "<style scoped>\n",
       "    .dataframe tbody tr th:only-of-type {\n",
       "        vertical-align: middle;\n",
       "    }\n",
       "\n",
       "    .dataframe tbody tr th {\n",
       "        vertical-align: top;\n",
       "    }\n",
       "\n",
       "    .dataframe thead th {\n",
       "        text-align: right;\n",
       "    }\n",
       "</style>\n",
       "<table border=\"1\" class=\"dataframe\">\n",
       "  <thead>\n",
       "    <tr style=\"text-align: right;\">\n",
       "      <th></th>\n",
       "      <th>Oil Investments</th>\n",
       "      <th>forecast</th>\n",
       "    </tr>\n",
       "    <tr>\n",
       "      <th>Date</th>\n",
       "      <th></th>\n",
       "      <th></th>\n",
       "    </tr>\n",
       "  </thead>\n",
       "  <tbody>\n",
       "    <tr>\n",
       "      <th>2009-12-31</th>\n",
       "      <td>0.025417</td>\n",
       "      <td>NaN</td>\n",
       "    </tr>\n",
       "    <tr>\n",
       "      <th>2010-01-01</th>\n",
       "      <td>0.000000</td>\n",
       "      <td>NaN</td>\n",
       "    </tr>\n",
       "    <tr>\n",
       "      <th>2010-01-02</th>\n",
       "      <td>0.021414</td>\n",
       "      <td>NaN</td>\n",
       "    </tr>\n",
       "    <tr>\n",
       "      <th>2010-01-03</th>\n",
       "      <td>-0.012669</td>\n",
       "      <td>NaN</td>\n",
       "    </tr>\n",
       "    <tr>\n",
       "      <th>2010-01-04</th>\n",
       "      <td>0.012942</td>\n",
       "      <td>NaN</td>\n",
       "    </tr>\n",
       "  </tbody>\n",
       "</table>\n",
       "</div>"
      ],
      "text/plain": [
       "            Oil Investments  forecast\n",
       "Date                                 \n",
       "2009-12-31         0.025417       NaN\n",
       "2010-01-01         0.000000       NaN\n",
       "2010-01-02         0.021414       NaN\n",
       "2010-01-03        -0.012669       NaN\n",
       "2010-01-04         0.012942       NaN"
      ]
     },
     "execution_count": 70,
     "metadata": {},
     "output_type": "execute_result"
    }
   ],
   "source": [
    "future_df.head()"
   ]
  },
  {
   "cell_type": "code",
   "execution_count": 71,
   "metadata": {},
   "outputs": [
    {
     "data": {
      "text/html": [
       "<div>\n",
       "<style scoped>\n",
       "    .dataframe tbody tr th:only-of-type {\n",
       "        vertical-align: middle;\n",
       "    }\n",
       "\n",
       "    .dataframe tbody tr th {\n",
       "        vertical-align: top;\n",
       "    }\n",
       "\n",
       "    .dataframe thead th {\n",
       "        text-align: right;\n",
       "    }\n",
       "</style>\n",
       "<table border=\"1\" class=\"dataframe\">\n",
       "  <thead>\n",
       "    <tr style=\"text-align: right;\">\n",
       "      <th></th>\n",
       "      <th>Oil Investments</th>\n",
       "      <th>forecast</th>\n",
       "    </tr>\n",
       "    <tr>\n",
       "      <th>Date</th>\n",
       "      <th></th>\n",
       "      <th></th>\n",
       "    </tr>\n",
       "  </thead>\n",
       "  <tbody>\n",
       "    <tr>\n",
       "      <th>2019-11-11</th>\n",
       "      <td>NaN</td>\n",
       "      <td>-6.770381e-07</td>\n",
       "    </tr>\n",
       "    <tr>\n",
       "      <th>2019-11-12</th>\n",
       "      <td>NaN</td>\n",
       "      <td>-6.770381e-07</td>\n",
       "    </tr>\n",
       "    <tr>\n",
       "      <th>2019-11-13</th>\n",
       "      <td>NaN</td>\n",
       "      <td>-6.770381e-07</td>\n",
       "    </tr>\n",
       "    <tr>\n",
       "      <th>2019-11-14</th>\n",
       "      <td>NaN</td>\n",
       "      <td>-6.770381e-07</td>\n",
       "    </tr>\n",
       "    <tr>\n",
       "      <th>2019-11-15</th>\n",
       "      <td>NaN</td>\n",
       "      <td>-6.770381e-07</td>\n",
       "    </tr>\n",
       "  </tbody>\n",
       "</table>\n",
       "</div>"
      ],
      "text/plain": [
       "            Oil Investments      forecast\n",
       "Date                                     \n",
       "2019-11-11              NaN -6.770381e-07\n",
       "2019-11-12              NaN -6.770381e-07\n",
       "2019-11-13              NaN -6.770381e-07\n",
       "2019-11-14              NaN -6.770381e-07\n",
       "2019-11-15              NaN -6.770381e-07"
      ]
     },
     "execution_count": 71,
     "metadata": {},
     "output_type": "execute_result"
    }
   ],
   "source": [
    "future_df.tail()"
   ]
  },
  {
   "cell_type": "code",
   "execution_count": 65,
   "metadata": {},
   "outputs": [
    {
     "data": {
      "text/html": [
       "<div>\n",
       "<style scoped>\n",
       "    .dataframe tbody tr th:only-of-type {\n",
       "        vertical-align: middle;\n",
       "    }\n",
       "\n",
       "    .dataframe tbody tr th {\n",
       "        vertical-align: top;\n",
       "    }\n",
       "\n",
       "    .dataframe thead th {\n",
       "        text-align: right;\n",
       "    }\n",
       "</style>\n",
       "<table border=\"1\" class=\"dataframe\">\n",
       "  <thead>\n",
       "    <tr style=\"text-align: right;\">\n",
       "      <th></th>\n",
       "      <th>Oil Investments</th>\n",
       "      <th>forecast</th>\n",
       "    </tr>\n",
       "    <tr>\n",
       "      <th>Date</th>\n",
       "      <th></th>\n",
       "      <th></th>\n",
       "    </tr>\n",
       "  </thead>\n",
       "  <tbody>\n",
       "    <tr>\n",
       "      <th>2017-11-15</th>\n",
       "      <td>-0.007006</td>\n",
       "      <td>1.837081e-02</td>\n",
       "    </tr>\n",
       "    <tr>\n",
       "      <th>2017-12-01</th>\n",
       "      <td>0.015712</td>\n",
       "      <td>-6.770381e-07</td>\n",
       "    </tr>\n",
       "    <tr>\n",
       "      <th>2017-12-04</th>\n",
       "      <td>-0.004871</td>\n",
       "      <td>-6.770381e-07</td>\n",
       "    </tr>\n",
       "    <tr>\n",
       "      <th>2017-12-05</th>\n",
       "      <td>0.000418</td>\n",
       "      <td>-6.770381e-07</td>\n",
       "    </tr>\n",
       "    <tr>\n",
       "      <th>2017-12-06</th>\n",
       "      <td>0.006111</td>\n",
       "      <td>-6.770381e-07</td>\n",
       "    </tr>\n",
       "    <tr>\n",
       "      <th>...</th>\n",
       "      <td>...</td>\n",
       "      <td>...</td>\n",
       "    </tr>\n",
       "    <tr>\n",
       "      <th>2019-11-11</th>\n",
       "      <td>NaN</td>\n",
       "      <td>-6.770381e-07</td>\n",
       "    </tr>\n",
       "    <tr>\n",
       "      <th>2019-11-12</th>\n",
       "      <td>NaN</td>\n",
       "      <td>-6.770381e-07</td>\n",
       "    </tr>\n",
       "    <tr>\n",
       "      <th>2019-11-13</th>\n",
       "      <td>NaN</td>\n",
       "      <td>-6.770381e-07</td>\n",
       "    </tr>\n",
       "    <tr>\n",
       "      <th>2019-11-14</th>\n",
       "      <td>NaN</td>\n",
       "      <td>-6.770381e-07</td>\n",
       "    </tr>\n",
       "    <tr>\n",
       "      <th>2019-11-15</th>\n",
       "      <td>NaN</td>\n",
       "      <td>-6.770381e-07</td>\n",
       "    </tr>\n",
       "  </tbody>\n",
       "</table>\n",
       "<p>738 rows × 2 columns</p>\n",
       "</div>"
      ],
      "text/plain": [
       "            Oil Investments      forecast\n",
       "Date                                     \n",
       "2017-11-15        -0.007006  1.837081e-02\n",
       "2017-12-01         0.015712 -6.770381e-07\n",
       "2017-12-04        -0.004871 -6.770381e-07\n",
       "2017-12-05         0.000418 -6.770381e-07\n",
       "2017-12-06         0.006111 -6.770381e-07\n",
       "...                     ...           ...\n",
       "2019-11-11              NaN -6.770381e-07\n",
       "2019-11-12              NaN -6.770381e-07\n",
       "2019-11-13              NaN -6.770381e-07\n",
       "2019-11-14              NaN -6.770381e-07\n",
       "2019-11-15              NaN -6.770381e-07\n",
       "\n",
       "[738 rows x 2 columns]"
      ]
     },
     "execution_count": 65,
     "metadata": {},
     "output_type": "execute_result"
    }
   ],
   "source": [
    "#checking predicted values\n",
    "\n",
    "#future_df['forecast']=results.predict(start='2017-11-15',end='2019-11-15',dynamic=True)\n",
    "\n",
    "future_df['2017-11-15' : '2019-11-15 ']\n",
    "#   start='2017-11-15',end='2019-11-15'"
   ]
  },
  {
   "cell_type": "code",
   "execution_count": null,
   "metadata": {},
   "outputs": [],
   "source": []
  }
 ],
 "metadata": {
  "kernelspec": {
   "display_name": "Python 3",
   "language": "python",
   "name": "python3"
  },
  "language_info": {
   "codemirror_mode": {
    "name": "ipython",
    "version": 3
   },
   "file_extension": ".py",
   "mimetype": "text/x-python",
   "name": "python",
   "nbconvert_exporter": "python",
   "pygments_lexer": "ipython3",
   "version": "3.8.3"
  }
 },
 "nbformat": 4,
 "nbformat_minor": 2
}
